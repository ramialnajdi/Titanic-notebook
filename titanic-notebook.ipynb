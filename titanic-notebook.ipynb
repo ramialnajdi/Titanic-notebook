{
 "cells": [
  {
   "cell_type": "markdown",
   "id": "a677c2d0",
   "metadata": {
    "id": "-V4svr9lxflR",
    "papermill": {
     "duration": 0.093305,
     "end_time": "2022-04-25T07:20:35.308560",
     "exception": false,
     "start_time": "2022-04-25T07:20:35.215255",
     "status": "completed"
    },
    "tags": []
   },
   "source": [
    "In this dataset we have 12 columns \n",
    "\n",
    "1_PassengerId\t(personal information) \n",
    "\n",
    "2_Survived (Survived=1,not Survived=0)\n",
    "\n",
    "3_Pclass there are three classes (1 = 1st, 2 = 2nd, 3 = 3rd)\n",
    "\t\n",
    "4_Name (personal information) \n",
    "\n",
    "5_Sex (male,female)\n",
    "\n",
    "6_Age\t(Age in years)\n",
    "  \n",
    "7_SibSp  \n",
    "\n",
    "         sibsp: The dataset defines family relations in this way...\n",
    "\n",
    "         Sibling = brother, sister, stepbrother, stepsister\n",
    "\n",
    "         Spouse = husband, wife (mistresses and fiancés were ignored)\n",
    "  \n",
    "8_Parch\t \n",
    "\n",
    "         parch: The dataset defines family relations in this way...\n",
    "\n",
    "         Parent = mother, father\n",
    "\n",
    "         Child = daughter, son, stepdaughter, stepson\n",
    "\n",
    "         Some children travelled only with a nanny, therefore parch=0 for them.\n",
    "    \n",
    "9_Ticket (Ticket number)\n",
    "    \n",
    "10_Fare\t(Passenger fare 'price')\n",
    "    \n",
    "11_Cabin (Cabin number)\n",
    "    \n",
    "12_Embarked (Port of Embarkation where C = Cherbourg, Q = Queenstown,           S=Southampton)\n"
   ]
  },
  {
   "cell_type": "code",
   "execution_count": 1,
   "id": "8411b62d",
   "metadata": {
    "_cell_guid": "b1076dfc-b9ad-4769-8c92-a6c4dae69d19",
    "_uuid": "8f2839f25d086af736a60e9eeb907d3b93b6e0e5",
    "execution": {
     "iopub.execute_input": "2022-04-25T07:20:35.516619Z",
     "iopub.status.busy": "2022-04-25T07:20:35.509275Z",
     "iopub.status.idle": "2022-04-25T07:20:36.873090Z",
     "shell.execute_reply": "2022-04-25T07:20:36.873774Z",
     "shell.execute_reply.started": "2022-04-25T07:18:29.329104Z"
    },
    "id": "f-6bAmOEqdAL",
    "papermill": {
     "duration": 1.463329,
     "end_time": "2022-04-25T07:20:36.874242",
     "exception": false,
     "start_time": "2022-04-25T07:20:35.410913",
     "status": "completed"
    },
    "tags": []
   },
   "outputs": [
    {
     "name": "stdout",
     "output_type": "stream",
     "text": [
      "/kaggle/input/titanic/train.csv\n",
      "/kaggle/input/titanic/test.csv\n",
      "/kaggle/input/titanic/gender_submission.csv\n"
     ]
    }
   ],
   "source": [
    "# This Python 3 environment comes with many helpful analytics libraries installed\n",
    "# It is defined by the kaggle/python Docker image: https://github.com/kaggle/docker-python\n",
    "# For example, here's several helpful packages to load\n",
    "\n",
    "import numpy as np # linear algebra\n",
    "import pandas as pd # data processing, CSV file I/O (e.g. pd.read_csv)\n",
    "import seaborn as sns # data plotting \n",
    "import matplotlib.pyplot as plt # data plotting\n",
    "from sklearn.preprocessing import StandardScaler # data processing, make data have same scale\n",
    "from sklearn.preprocessing import OneHotEncoder # data processing,convert data to dummies variables\n",
    "from sklearn.model_selection import GridSearchCV  # Search the best parameters\n",
    "from sklearn.metrics import classification_report,confusion_matrix,accuracy_score,roc_auc_score # evaluating the model\n",
    "from sklearn.ensemble import RandomForestClassifier  # import Random Forest model classifier\n",
    "from sklearn.ensemble import ExtraTreesClassifier # import Extra Trees model classifier \n",
    "from sklearn.ensemble import VotingClassifier # import voting model classifier \n",
    "from sklearn.ensemble import BaggingClassifier # import Bagging model classifier \n",
    "from sklearn.ensemble import AdaBoostClassifier  # import AdaBoost model classifier \n",
    "from sklearn.ensemble import GradientBoostingClassifier  #import Gradient Boosting model classifier \n",
    "from sklearn.linear_model import LogisticRegression,LogisticRegressionCV  # import Logistic Regression model classifier \n",
    "from sklearn.neighbors import KNeighborsClassifier # import K Nearest Neighbores model classifier \n",
    "from sklearn.tree import DecisionTreeClassifier # import Decision Tree Classifier\n",
    "from sklearn.naive_bayes import GaussianNB # import Gaussian Naive Bayes Classifier\n",
    "from sklearn.svm import SVC # import suporrt vector machine moled Classifier \n",
    "\n",
    "# Input data files are available in the read-only \"../input/\" directory\n",
    "# For example, running this (by clicking run or pressing Shift+Enter) will list all files under the input directory\n",
    "\n",
    "import os\n",
    "for dirname, _, filenames in os.walk('/kaggle/input'):\n",
    "    for filename in filenames:\n",
    "        print(os.path.join(dirname, filename))\n",
    "\n",
    "# You can write up to 20GB to the current directory (/kaggle/working/) that gets preserved as output when you create a version using \"Save & Run All\" \n",
    "# You can also write temporary files to /kaggle/temp/, but they won't be saved outside of the current session"
   ]
  },
  {
   "cell_type": "code",
   "execution_count": 2,
   "id": "8124cda2",
   "metadata": {
    "execution": {
     "iopub.execute_input": "2022-04-25T07:20:37.067731Z",
     "iopub.status.busy": "2022-04-25T07:20:37.067034Z",
     "iopub.status.idle": "2022-04-25T07:20:37.099777Z",
     "shell.execute_reply": "2022-04-25T07:20:37.100260Z",
     "shell.execute_reply.started": "2022-04-25T07:18:29.544605Z"
    },
    "id": "z-iKVa6HqdAN",
    "outputId": "37e31eb9-5c31-44d6-9dcd-249b104c01c9",
    "papermill": {
     "duration": 0.131445,
     "end_time": "2022-04-25T07:20:37.100421",
     "exception": false,
     "start_time": "2022-04-25T07:20:36.968976",
     "status": "completed"
    },
    "tags": []
   },
   "outputs": [
    {
     "data": {
      "text/html": [
       "<div>\n",
       "<style scoped>\n",
       "    .dataframe tbody tr th:only-of-type {\n",
       "        vertical-align: middle;\n",
       "    }\n",
       "\n",
       "    .dataframe tbody tr th {\n",
       "        vertical-align: top;\n",
       "    }\n",
       "\n",
       "    .dataframe thead th {\n",
       "        text-align: right;\n",
       "    }\n",
       "</style>\n",
       "<table border=\"1\" class=\"dataframe\">\n",
       "  <thead>\n",
       "    <tr style=\"text-align: right;\">\n",
       "      <th></th>\n",
       "      <th>PassengerId</th>\n",
       "      <th>Survived</th>\n",
       "      <th>Pclass</th>\n",
       "      <th>Name</th>\n",
       "      <th>Sex</th>\n",
       "      <th>Age</th>\n",
       "      <th>SibSp</th>\n",
       "      <th>Parch</th>\n",
       "      <th>Ticket</th>\n",
       "      <th>Fare</th>\n",
       "      <th>Cabin</th>\n",
       "      <th>Embarked</th>\n",
       "    </tr>\n",
       "  </thead>\n",
       "  <tbody>\n",
       "    <tr>\n",
       "      <th>0</th>\n",
       "      <td>1</td>\n",
       "      <td>0</td>\n",
       "      <td>3</td>\n",
       "      <td>Braund, Mr. Owen Harris</td>\n",
       "      <td>male</td>\n",
       "      <td>22.0</td>\n",
       "      <td>1</td>\n",
       "      <td>0</td>\n",
       "      <td>A/5 21171</td>\n",
       "      <td>7.2500</td>\n",
       "      <td>NaN</td>\n",
       "      <td>S</td>\n",
       "    </tr>\n",
       "    <tr>\n",
       "      <th>1</th>\n",
       "      <td>2</td>\n",
       "      <td>1</td>\n",
       "      <td>1</td>\n",
       "      <td>Cumings, Mrs. John Bradley (Florence Briggs Th...</td>\n",
       "      <td>female</td>\n",
       "      <td>38.0</td>\n",
       "      <td>1</td>\n",
       "      <td>0</td>\n",
       "      <td>PC 17599</td>\n",
       "      <td>71.2833</td>\n",
       "      <td>C85</td>\n",
       "      <td>C</td>\n",
       "    </tr>\n",
       "    <tr>\n",
       "      <th>2</th>\n",
       "      <td>3</td>\n",
       "      <td>1</td>\n",
       "      <td>3</td>\n",
       "      <td>Heikkinen, Miss. Laina</td>\n",
       "      <td>female</td>\n",
       "      <td>26.0</td>\n",
       "      <td>0</td>\n",
       "      <td>0</td>\n",
       "      <td>STON/O2. 3101282</td>\n",
       "      <td>7.9250</td>\n",
       "      <td>NaN</td>\n",
       "      <td>S</td>\n",
       "    </tr>\n",
       "    <tr>\n",
       "      <th>3</th>\n",
       "      <td>4</td>\n",
       "      <td>1</td>\n",
       "      <td>1</td>\n",
       "      <td>Futrelle, Mrs. Jacques Heath (Lily May Peel)</td>\n",
       "      <td>female</td>\n",
       "      <td>35.0</td>\n",
       "      <td>1</td>\n",
       "      <td>0</td>\n",
       "      <td>113803</td>\n",
       "      <td>53.1000</td>\n",
       "      <td>C123</td>\n",
       "      <td>S</td>\n",
       "    </tr>\n",
       "    <tr>\n",
       "      <th>4</th>\n",
       "      <td>5</td>\n",
       "      <td>0</td>\n",
       "      <td>3</td>\n",
       "      <td>Allen, Mr. William Henry</td>\n",
       "      <td>male</td>\n",
       "      <td>35.0</td>\n",
       "      <td>0</td>\n",
       "      <td>0</td>\n",
       "      <td>373450</td>\n",
       "      <td>8.0500</td>\n",
       "      <td>NaN</td>\n",
       "      <td>S</td>\n",
       "    </tr>\n",
       "  </tbody>\n",
       "</table>\n",
       "</div>"
      ],
      "text/plain": [
       "   PassengerId  Survived  Pclass  \\\n",
       "0            1         0       3   \n",
       "1            2         1       1   \n",
       "2            3         1       3   \n",
       "3            4         1       1   \n",
       "4            5         0       3   \n",
       "\n",
       "                                                Name     Sex   Age  SibSp  \\\n",
       "0                            Braund, Mr. Owen Harris    male  22.0      1   \n",
       "1  Cumings, Mrs. John Bradley (Florence Briggs Th...  female  38.0      1   \n",
       "2                             Heikkinen, Miss. Laina  female  26.0      0   \n",
       "3       Futrelle, Mrs. Jacques Heath (Lily May Peel)  female  35.0      1   \n",
       "4                           Allen, Mr. William Henry    male  35.0      0   \n",
       "\n",
       "   Parch            Ticket     Fare Cabin Embarked  \n",
       "0      0         A/5 21171   7.2500   NaN        S  \n",
       "1      0          PC 17599  71.2833   C85        C  \n",
       "2      0  STON/O2. 3101282   7.9250   NaN        S  \n",
       "3      0            113803  53.1000  C123        S  \n",
       "4      0            373450   8.0500   NaN        S  "
      ]
     },
     "execution_count": 2,
     "metadata": {},
     "output_type": "execute_result"
    }
   ],
   "source": [
    "train_set = pd.read_csv(\"/kaggle/input/titanic/train.csv\") \n",
    "train_set.head()"
   ]
  },
  {
   "cell_type": "code",
   "execution_count": 3,
   "id": "0facbaac",
   "metadata": {
    "execution": {
     "iopub.execute_input": "2022-04-25T07:20:37.292250Z",
     "iopub.status.busy": "2022-04-25T07:20:37.291539Z",
     "iopub.status.idle": "2022-04-25T07:20:37.311847Z",
     "shell.execute_reply": "2022-04-25T07:20:37.312370Z",
     "shell.execute_reply.started": "2022-04-25T07:18:29.784897Z"
    },
    "id": "4Wz-D9WUqdAN",
    "outputId": "6e5215cd-1bc1-4250-a394-5b25c9b9bfba",
    "papermill": {
     "duration": 0.118928,
     "end_time": "2022-04-25T07:20:37.312550",
     "exception": false,
     "start_time": "2022-04-25T07:20:37.193622",
     "status": "completed"
    },
    "tags": []
   },
   "outputs": [
    {
     "data": {
      "text/html": [
       "<div>\n",
       "<style scoped>\n",
       "    .dataframe tbody tr th:only-of-type {\n",
       "        vertical-align: middle;\n",
       "    }\n",
       "\n",
       "    .dataframe tbody tr th {\n",
       "        vertical-align: top;\n",
       "    }\n",
       "\n",
       "    .dataframe thead th {\n",
       "        text-align: right;\n",
       "    }\n",
       "</style>\n",
       "<table border=\"1\" class=\"dataframe\">\n",
       "  <thead>\n",
       "    <tr style=\"text-align: right;\">\n",
       "      <th></th>\n",
       "      <th>PassengerId</th>\n",
       "      <th>Pclass</th>\n",
       "      <th>Name</th>\n",
       "      <th>Sex</th>\n",
       "      <th>Age</th>\n",
       "      <th>SibSp</th>\n",
       "      <th>Parch</th>\n",
       "      <th>Ticket</th>\n",
       "      <th>Fare</th>\n",
       "      <th>Cabin</th>\n",
       "      <th>Embarked</th>\n",
       "    </tr>\n",
       "  </thead>\n",
       "  <tbody>\n",
       "    <tr>\n",
       "      <th>0</th>\n",
       "      <td>892</td>\n",
       "      <td>3</td>\n",
       "      <td>Kelly, Mr. James</td>\n",
       "      <td>male</td>\n",
       "      <td>34.5</td>\n",
       "      <td>0</td>\n",
       "      <td>0</td>\n",
       "      <td>330911</td>\n",
       "      <td>7.8292</td>\n",
       "      <td>NaN</td>\n",
       "      <td>Q</td>\n",
       "    </tr>\n",
       "    <tr>\n",
       "      <th>1</th>\n",
       "      <td>893</td>\n",
       "      <td>3</td>\n",
       "      <td>Wilkes, Mrs. James (Ellen Needs)</td>\n",
       "      <td>female</td>\n",
       "      <td>47.0</td>\n",
       "      <td>1</td>\n",
       "      <td>0</td>\n",
       "      <td>363272</td>\n",
       "      <td>7.0000</td>\n",
       "      <td>NaN</td>\n",
       "      <td>S</td>\n",
       "    </tr>\n",
       "    <tr>\n",
       "      <th>2</th>\n",
       "      <td>894</td>\n",
       "      <td>2</td>\n",
       "      <td>Myles, Mr. Thomas Francis</td>\n",
       "      <td>male</td>\n",
       "      <td>62.0</td>\n",
       "      <td>0</td>\n",
       "      <td>0</td>\n",
       "      <td>240276</td>\n",
       "      <td>9.6875</td>\n",
       "      <td>NaN</td>\n",
       "      <td>Q</td>\n",
       "    </tr>\n",
       "    <tr>\n",
       "      <th>3</th>\n",
       "      <td>895</td>\n",
       "      <td>3</td>\n",
       "      <td>Wirz, Mr. Albert</td>\n",
       "      <td>male</td>\n",
       "      <td>27.0</td>\n",
       "      <td>0</td>\n",
       "      <td>0</td>\n",
       "      <td>315154</td>\n",
       "      <td>8.6625</td>\n",
       "      <td>NaN</td>\n",
       "      <td>S</td>\n",
       "    </tr>\n",
       "    <tr>\n",
       "      <th>4</th>\n",
       "      <td>896</td>\n",
       "      <td>3</td>\n",
       "      <td>Hirvonen, Mrs. Alexander (Helga E Lindqvist)</td>\n",
       "      <td>female</td>\n",
       "      <td>22.0</td>\n",
       "      <td>1</td>\n",
       "      <td>1</td>\n",
       "      <td>3101298</td>\n",
       "      <td>12.2875</td>\n",
       "      <td>NaN</td>\n",
       "      <td>S</td>\n",
       "    </tr>\n",
       "  </tbody>\n",
       "</table>\n",
       "</div>"
      ],
      "text/plain": [
       "   PassengerId  Pclass                                          Name     Sex  \\\n",
       "0          892       3                              Kelly, Mr. James    male   \n",
       "1          893       3              Wilkes, Mrs. James (Ellen Needs)  female   \n",
       "2          894       2                     Myles, Mr. Thomas Francis    male   \n",
       "3          895       3                              Wirz, Mr. Albert    male   \n",
       "4          896       3  Hirvonen, Mrs. Alexander (Helga E Lindqvist)  female   \n",
       "\n",
       "    Age  SibSp  Parch   Ticket     Fare Cabin Embarked  \n",
       "0  34.5      0      0   330911   7.8292   NaN        Q  \n",
       "1  47.0      1      0   363272   7.0000   NaN        S  \n",
       "2  62.0      0      0   240276   9.6875   NaN        Q  \n",
       "3  27.0      0      0   315154   8.6625   NaN        S  \n",
       "4  22.0      1      1  3101298  12.2875   NaN        S  "
      ]
     },
     "execution_count": 3,
     "metadata": {},
     "output_type": "execute_result"
    }
   ],
   "source": [
    "test_set = pd.read_csv(\"/kaggle/input/titanic/test.csv\")\n",
    "test_set.head() "
   ]
  },
  {
   "cell_type": "code",
   "execution_count": 4,
   "id": "b1b0783b",
   "metadata": {
    "execution": {
     "iopub.execute_input": "2022-04-25T07:20:37.506228Z",
     "iopub.status.busy": "2022-04-25T07:20:37.505490Z",
     "iopub.status.idle": "2022-04-25T07:20:37.516061Z",
     "shell.execute_reply": "2022-04-25T07:20:37.516684Z",
     "shell.execute_reply.started": "2022-04-25T07:18:30.177610Z"
    },
    "id": "cs9_ZSw7qdAN",
    "outputId": "09233349-c251-4da6-b16b-66dda9259fe0",
    "papermill": {
     "duration": 0.110256,
     "end_time": "2022-04-25T07:20:37.516868",
     "exception": false,
     "start_time": "2022-04-25T07:20:37.406612",
     "status": "completed"
    },
    "tags": []
   },
   "outputs": [
    {
     "data": {
      "text/html": [
       "<div>\n",
       "<style scoped>\n",
       "    .dataframe tbody tr th:only-of-type {\n",
       "        vertical-align: middle;\n",
       "    }\n",
       "\n",
       "    .dataframe tbody tr th {\n",
       "        vertical-align: top;\n",
       "    }\n",
       "\n",
       "    .dataframe thead th {\n",
       "        text-align: right;\n",
       "    }\n",
       "</style>\n",
       "<table border=\"1\" class=\"dataframe\">\n",
       "  <thead>\n",
       "    <tr style=\"text-align: right;\">\n",
       "      <th></th>\n",
       "      <th>PassengerId</th>\n",
       "      <th>Survived</th>\n",
       "    </tr>\n",
       "  </thead>\n",
       "  <tbody>\n",
       "    <tr>\n",
       "      <th>0</th>\n",
       "      <td>892</td>\n",
       "      <td>0</td>\n",
       "    </tr>\n",
       "    <tr>\n",
       "      <th>1</th>\n",
       "      <td>893</td>\n",
       "      <td>1</td>\n",
       "    </tr>\n",
       "    <tr>\n",
       "      <th>2</th>\n",
       "      <td>894</td>\n",
       "      <td>0</td>\n",
       "    </tr>\n",
       "    <tr>\n",
       "      <th>3</th>\n",
       "      <td>895</td>\n",
       "      <td>0</td>\n",
       "    </tr>\n",
       "    <tr>\n",
       "      <th>4</th>\n",
       "      <td>896</td>\n",
       "      <td>1</td>\n",
       "    </tr>\n",
       "  </tbody>\n",
       "</table>\n",
       "</div>"
      ],
      "text/plain": [
       "   PassengerId  Survived\n",
       "0          892         0\n",
       "1          893         1\n",
       "2          894         0\n",
       "3          895         0\n",
       "4          896         1"
      ]
     },
     "execution_count": 4,
     "metadata": {},
     "output_type": "execute_result"
    }
   ],
   "source": [
    "submission = pd.read_csv(\"/kaggle/input/titanic/gender_submission.csv\")\n",
    "submission.head()"
   ]
  },
  {
   "cell_type": "markdown",
   "id": "5bf036a6",
   "metadata": {
    "id": "bmLHsYyt4ap-",
    "papermill": {
     "duration": 0.093144,
     "end_time": "2022-04-25T07:20:37.703977",
     "exception": false,
     "start_time": "2022-04-25T07:20:37.610833",
     "status": "completed"
    },
    "tags": []
   },
   "source": [
    "# Explore the Data"
   ]
  },
  {
   "cell_type": "code",
   "execution_count": 5,
   "id": "1c49bb6d",
   "metadata": {
    "execution": {
     "iopub.execute_input": "2022-04-25T07:20:37.893409Z",
     "iopub.status.busy": "2022-04-25T07:20:37.892423Z",
     "iopub.status.idle": "2022-04-25T07:20:37.898045Z",
     "shell.execute_reply": "2022-04-25T07:20:37.898586Z",
     "shell.execute_reply.started": "2022-04-25T07:18:30.495720Z"
    },
    "id": "hbf95z7x4eqw",
    "outputId": "2fb703ec-30aa-4651-b0b9-817c613194e6",
    "papermill": {
     "duration": 0.101705,
     "end_time": "2022-04-25T07:20:37.898746",
     "exception": false,
     "start_time": "2022-04-25T07:20:37.797041",
     "status": "completed"
    },
    "tags": []
   },
   "outputs": [
    {
     "name": "stdout",
     "output_type": "stream",
     "text": [
      "number of rows in train set 891\n",
      "number of columns in train set 12\n"
     ]
    }
   ],
   "source": [
    "print(f'number of rows in train set {train_set.shape[0]}')\n",
    "print(f'number of columns in train set {train_set.shape[1]}')"
   ]
  },
  {
   "cell_type": "code",
   "execution_count": 6,
   "id": "8e0eb006",
   "metadata": {
    "execution": {
     "iopub.execute_input": "2022-04-25T07:20:38.089675Z",
     "iopub.status.busy": "2022-04-25T07:20:38.088796Z",
     "iopub.status.idle": "2022-04-25T07:20:38.111711Z",
     "shell.execute_reply": "2022-04-25T07:20:38.111183Z",
     "shell.execute_reply.started": "2022-04-25T07:18:31.289125Z"
    },
    "id": "q4AH797m5H6I",
    "outputId": "e7ac103f-c2be-4e28-c14d-18cf727c2a5a",
    "papermill": {
     "duration": 0.119235,
     "end_time": "2022-04-25T07:20:38.111845",
     "exception": false,
     "start_time": "2022-04-25T07:20:37.992610",
     "status": "completed"
    },
    "tags": []
   },
   "outputs": [
    {
     "name": "stdout",
     "output_type": "stream",
     "text": [
      "<class 'pandas.core.frame.DataFrame'>\n",
      "RangeIndex: 891 entries, 0 to 890\n",
      "Data columns (total 12 columns):\n",
      " #   Column       Non-Null Count  Dtype  \n",
      "---  ------       --------------  -----  \n",
      " 0   PassengerId  891 non-null    int64  \n",
      " 1   Survived     891 non-null    int64  \n",
      " 2   Pclass       891 non-null    int64  \n",
      " 3   Name         891 non-null    object \n",
      " 4   Sex          891 non-null    object \n",
      " 5   Age          714 non-null    float64\n",
      " 6   SibSp        891 non-null    int64  \n",
      " 7   Parch        891 non-null    int64  \n",
      " 8   Ticket       891 non-null    object \n",
      " 9   Fare         891 non-null    float64\n",
      " 10  Cabin        204 non-null    object \n",
      " 11  Embarked     889 non-null    object \n",
      "dtypes: float64(2), int64(5), object(5)\n",
      "memory usage: 83.7+ KB\n"
     ]
    }
   ],
   "source": [
    "#show Type of data\n",
    "train_set.info() "
   ]
  },
  {
   "cell_type": "code",
   "execution_count": 7,
   "id": "a0adfbdc",
   "metadata": {
    "execution": {
     "iopub.execute_input": "2022-04-25T07:20:38.308215Z",
     "iopub.status.busy": "2022-04-25T07:20:38.307525Z",
     "iopub.status.idle": "2022-04-25T07:20:38.338838Z",
     "shell.execute_reply": "2022-04-25T07:20:38.339443Z",
     "shell.execute_reply.started": "2022-04-25T07:18:31.306880Z"
    },
    "id": "j-q18khp4e4-",
    "outputId": "796f6c57-7853-4761-fbda-52eac97e60a6",
    "papermill": {
     "duration": 0.129151,
     "end_time": "2022-04-25T07:20:38.339626",
     "exception": false,
     "start_time": "2022-04-25T07:20:38.210475",
     "status": "completed"
    },
    "tags": []
   },
   "outputs": [
    {
     "data": {
      "text/html": [
       "<div>\n",
       "<style scoped>\n",
       "    .dataframe tbody tr th:only-of-type {\n",
       "        vertical-align: middle;\n",
       "    }\n",
       "\n",
       "    .dataframe tbody tr th {\n",
       "        vertical-align: top;\n",
       "    }\n",
       "\n",
       "    .dataframe thead th {\n",
       "        text-align: right;\n",
       "    }\n",
       "</style>\n",
       "<table border=\"1\" class=\"dataframe\">\n",
       "  <thead>\n",
       "    <tr style=\"text-align: right;\">\n",
       "      <th></th>\n",
       "      <th>PassengerId</th>\n",
       "      <th>Survived</th>\n",
       "      <th>Pclass</th>\n",
       "      <th>Age</th>\n",
       "      <th>SibSp</th>\n",
       "      <th>Parch</th>\n",
       "      <th>Fare</th>\n",
       "    </tr>\n",
       "  </thead>\n",
       "  <tbody>\n",
       "    <tr>\n",
       "      <th>count</th>\n",
       "      <td>891.000000</td>\n",
       "      <td>891.000000</td>\n",
       "      <td>891.000000</td>\n",
       "      <td>714.000000</td>\n",
       "      <td>891.000000</td>\n",
       "      <td>891.000000</td>\n",
       "      <td>891.000000</td>\n",
       "    </tr>\n",
       "    <tr>\n",
       "      <th>mean</th>\n",
       "      <td>446.000000</td>\n",
       "      <td>0.383838</td>\n",
       "      <td>2.308642</td>\n",
       "      <td>29.699118</td>\n",
       "      <td>0.523008</td>\n",
       "      <td>0.381594</td>\n",
       "      <td>32.204208</td>\n",
       "    </tr>\n",
       "    <tr>\n",
       "      <th>std</th>\n",
       "      <td>257.353842</td>\n",
       "      <td>0.486592</td>\n",
       "      <td>0.836071</td>\n",
       "      <td>14.526497</td>\n",
       "      <td>1.102743</td>\n",
       "      <td>0.806057</td>\n",
       "      <td>49.693429</td>\n",
       "    </tr>\n",
       "    <tr>\n",
       "      <th>min</th>\n",
       "      <td>1.000000</td>\n",
       "      <td>0.000000</td>\n",
       "      <td>1.000000</td>\n",
       "      <td>0.420000</td>\n",
       "      <td>0.000000</td>\n",
       "      <td>0.000000</td>\n",
       "      <td>0.000000</td>\n",
       "    </tr>\n",
       "    <tr>\n",
       "      <th>25%</th>\n",
       "      <td>223.500000</td>\n",
       "      <td>0.000000</td>\n",
       "      <td>2.000000</td>\n",
       "      <td>20.125000</td>\n",
       "      <td>0.000000</td>\n",
       "      <td>0.000000</td>\n",
       "      <td>7.910400</td>\n",
       "    </tr>\n",
       "    <tr>\n",
       "      <th>50%</th>\n",
       "      <td>446.000000</td>\n",
       "      <td>0.000000</td>\n",
       "      <td>3.000000</td>\n",
       "      <td>28.000000</td>\n",
       "      <td>0.000000</td>\n",
       "      <td>0.000000</td>\n",
       "      <td>14.454200</td>\n",
       "    </tr>\n",
       "    <tr>\n",
       "      <th>75%</th>\n",
       "      <td>668.500000</td>\n",
       "      <td>1.000000</td>\n",
       "      <td>3.000000</td>\n",
       "      <td>38.000000</td>\n",
       "      <td>1.000000</td>\n",
       "      <td>0.000000</td>\n",
       "      <td>31.000000</td>\n",
       "    </tr>\n",
       "    <tr>\n",
       "      <th>max</th>\n",
       "      <td>891.000000</td>\n",
       "      <td>1.000000</td>\n",
       "      <td>3.000000</td>\n",
       "      <td>80.000000</td>\n",
       "      <td>8.000000</td>\n",
       "      <td>6.000000</td>\n",
       "      <td>512.329200</td>\n",
       "    </tr>\n",
       "  </tbody>\n",
       "</table>\n",
       "</div>"
      ],
      "text/plain": [
       "       PassengerId    Survived      Pclass         Age       SibSp  \\\n",
       "count   891.000000  891.000000  891.000000  714.000000  891.000000   \n",
       "mean    446.000000    0.383838    2.308642   29.699118    0.523008   \n",
       "std     257.353842    0.486592    0.836071   14.526497    1.102743   \n",
       "min       1.000000    0.000000    1.000000    0.420000    0.000000   \n",
       "25%     223.500000    0.000000    2.000000   20.125000    0.000000   \n",
       "50%     446.000000    0.000000    3.000000   28.000000    0.000000   \n",
       "75%     668.500000    1.000000    3.000000   38.000000    1.000000   \n",
       "max     891.000000    1.000000    3.000000   80.000000    8.000000   \n",
       "\n",
       "            Parch        Fare  \n",
       "count  891.000000  891.000000  \n",
       "mean     0.381594   32.204208  \n",
       "std      0.806057   49.693429  \n",
       "min      0.000000    0.000000  \n",
       "25%      0.000000    7.910400  \n",
       "50%      0.000000   14.454200  \n",
       "75%      0.000000   31.000000  \n",
       "max      6.000000  512.329200  "
      ]
     },
     "execution_count": 7,
     "metadata": {},
     "output_type": "execute_result"
    }
   ],
   "source": [
    "#show descriptive statistic for float and int data\n",
    "train_set.describe() "
   ]
  },
  {
   "cell_type": "code",
   "execution_count": 8,
   "id": "1c4770c3",
   "metadata": {
    "execution": {
     "iopub.execute_input": "2022-04-25T07:20:38.532898Z",
     "iopub.status.busy": "2022-04-25T07:20:38.532040Z",
     "iopub.status.idle": "2022-04-25T07:20:38.551859Z",
     "shell.execute_reply": "2022-04-25T07:20:38.552465Z",
     "shell.execute_reply.started": "2022-04-25T07:18:31.479293Z"
    },
    "id": "534Qj83y6Crf",
    "outputId": "da6d06d2-67c7-48ee-8285-c6f598bfa975",
    "papermill": {
     "duration": 0.117114,
     "end_time": "2022-04-25T07:20:38.552654",
     "exception": false,
     "start_time": "2022-04-25T07:20:38.435540",
     "status": "completed"
    },
    "tags": []
   },
   "outputs": [
    {
     "data": {
      "text/html": [
       "<div>\n",
       "<style scoped>\n",
       "    .dataframe tbody tr th:only-of-type {\n",
       "        vertical-align: middle;\n",
       "    }\n",
       "\n",
       "    .dataframe tbody tr th {\n",
       "        vertical-align: top;\n",
       "    }\n",
       "\n",
       "    .dataframe thead th {\n",
       "        text-align: right;\n",
       "    }\n",
       "</style>\n",
       "<table border=\"1\" class=\"dataframe\">\n",
       "  <thead>\n",
       "    <tr style=\"text-align: right;\">\n",
       "      <th></th>\n",
       "      <th>Name</th>\n",
       "      <th>Sex</th>\n",
       "      <th>Ticket</th>\n",
       "      <th>Cabin</th>\n",
       "      <th>Embarked</th>\n",
       "    </tr>\n",
       "  </thead>\n",
       "  <tbody>\n",
       "    <tr>\n",
       "      <th>count</th>\n",
       "      <td>891</td>\n",
       "      <td>891</td>\n",
       "      <td>891</td>\n",
       "      <td>204</td>\n",
       "      <td>889</td>\n",
       "    </tr>\n",
       "    <tr>\n",
       "      <th>unique</th>\n",
       "      <td>891</td>\n",
       "      <td>2</td>\n",
       "      <td>681</td>\n",
       "      <td>147</td>\n",
       "      <td>3</td>\n",
       "    </tr>\n",
       "    <tr>\n",
       "      <th>top</th>\n",
       "      <td>Braund, Mr. Owen Harris</td>\n",
       "      <td>male</td>\n",
       "      <td>347082</td>\n",
       "      <td>B96 B98</td>\n",
       "      <td>S</td>\n",
       "    </tr>\n",
       "    <tr>\n",
       "      <th>freq</th>\n",
       "      <td>1</td>\n",
       "      <td>577</td>\n",
       "      <td>7</td>\n",
       "      <td>4</td>\n",
       "      <td>644</td>\n",
       "    </tr>\n",
       "  </tbody>\n",
       "</table>\n",
       "</div>"
      ],
      "text/plain": [
       "                           Name   Sex  Ticket    Cabin Embarked\n",
       "count                       891   891     891      204      889\n",
       "unique                      891     2     681      147        3\n",
       "top     Braund, Mr. Owen Harris  male  347082  B96 B98        S\n",
       "freq                          1   577       7        4      644"
      ]
     },
     "execution_count": 8,
     "metadata": {},
     "output_type": "execute_result"
    }
   ],
   "source": [
    "#show descriptive statistic for object data\n",
    "train_set.describe(include=object)"
   ]
  },
  {
   "cell_type": "code",
   "execution_count": 9,
   "id": "70baaf8b",
   "metadata": {
    "execution": {
     "iopub.execute_input": "2022-04-25T07:20:38.751668Z",
     "iopub.status.busy": "2022-04-25T07:20:38.749498Z",
     "iopub.status.idle": "2022-04-25T07:20:38.755268Z",
     "shell.execute_reply": "2022-04-25T07:20:38.754687Z",
     "shell.execute_reply.started": "2022-04-25T07:18:31.506332Z"
    },
    "id": "5hB-MX6J6bPO",
    "outputId": "929325b6-4741-4a97-db3d-489aeab682c1",
    "papermill": {
     "duration": 0.105826,
     "end_time": "2022-04-25T07:20:38.755400",
     "exception": false,
     "start_time": "2022-04-25T07:20:38.649574",
     "status": "completed"
    },
    "tags": []
   },
   "outputs": [
    {
     "name": "stdout",
     "output_type": "stream",
     "text": [
      "number of rows in test set 891\n",
      "number of columns in test set 12\n"
     ]
    }
   ],
   "source": [
    "print(f'number of rows in test set {train_set.shape[0]}')\n",
    "print(f'number of columns in test set {train_set.shape[1]}')"
   ]
  },
  {
   "cell_type": "code",
   "execution_count": 10,
   "id": "db918702",
   "metadata": {
    "execution": {
     "iopub.execute_input": "2022-04-25T07:20:38.948504Z",
     "iopub.status.busy": "2022-04-25T07:20:38.947872Z",
     "iopub.status.idle": "2022-04-25T07:20:38.959095Z",
     "shell.execute_reply": "2022-04-25T07:20:38.959596Z",
     "shell.execute_reply.started": "2022-04-25T07:18:31.513664Z"
    },
    "id": "Sx-GhlXE6len",
    "outputId": "7fe62a52-b536-4746-ac8a-c4f0e1ac8ca5",
    "papermill": {
     "duration": 0.108588,
     "end_time": "2022-04-25T07:20:38.959761",
     "exception": false,
     "start_time": "2022-04-25T07:20:38.851173",
     "status": "completed"
    },
    "tags": []
   },
   "outputs": [
    {
     "name": "stdout",
     "output_type": "stream",
     "text": [
      "<class 'pandas.core.frame.DataFrame'>\n",
      "RangeIndex: 418 entries, 0 to 417\n",
      "Data columns (total 11 columns):\n",
      " #   Column       Non-Null Count  Dtype  \n",
      "---  ------       --------------  -----  \n",
      " 0   PassengerId  418 non-null    int64  \n",
      " 1   Pclass       418 non-null    int64  \n",
      " 2   Name         418 non-null    object \n",
      " 3   Sex          418 non-null    object \n",
      " 4   Age          332 non-null    float64\n",
      " 5   SibSp        418 non-null    int64  \n",
      " 6   Parch        418 non-null    int64  \n",
      " 7   Ticket       418 non-null    object \n",
      " 8   Fare         417 non-null    float64\n",
      " 9   Cabin        91 non-null     object \n",
      " 10  Embarked     418 non-null    object \n",
      "dtypes: float64(2), int64(4), object(5)\n",
      "memory usage: 36.0+ KB\n"
     ]
    }
   ],
   "source": [
    "#show Type of data\n",
    "test_set.info() "
   ]
  },
  {
   "cell_type": "code",
   "execution_count": 11,
   "id": "391bf994",
   "metadata": {
    "execution": {
     "iopub.execute_input": "2022-04-25T07:20:39.159306Z",
     "iopub.status.busy": "2022-04-25T07:20:39.158685Z",
     "iopub.status.idle": "2022-04-25T07:20:39.181774Z",
     "shell.execute_reply": "2022-04-25T07:20:39.182351Z",
     "shell.execute_reply.started": "2022-04-25T07:18:31.535387Z"
    },
    "id": "y7fqEkhK6liG",
    "outputId": "dc0cf570-c453-41f1-86c1-fb7321037964",
    "papermill": {
     "duration": 0.125239,
     "end_time": "2022-04-25T07:20:39.182521",
     "exception": false,
     "start_time": "2022-04-25T07:20:39.057282",
     "status": "completed"
    },
    "tags": []
   },
   "outputs": [
    {
     "data": {
      "text/html": [
       "<div>\n",
       "<style scoped>\n",
       "    .dataframe tbody tr th:only-of-type {\n",
       "        vertical-align: middle;\n",
       "    }\n",
       "\n",
       "    .dataframe tbody tr th {\n",
       "        vertical-align: top;\n",
       "    }\n",
       "\n",
       "    .dataframe thead th {\n",
       "        text-align: right;\n",
       "    }\n",
       "</style>\n",
       "<table border=\"1\" class=\"dataframe\">\n",
       "  <thead>\n",
       "    <tr style=\"text-align: right;\">\n",
       "      <th></th>\n",
       "      <th>PassengerId</th>\n",
       "      <th>Pclass</th>\n",
       "      <th>Age</th>\n",
       "      <th>SibSp</th>\n",
       "      <th>Parch</th>\n",
       "      <th>Fare</th>\n",
       "    </tr>\n",
       "  </thead>\n",
       "  <tbody>\n",
       "    <tr>\n",
       "      <th>count</th>\n",
       "      <td>418.000000</td>\n",
       "      <td>418.000000</td>\n",
       "      <td>332.000000</td>\n",
       "      <td>418.000000</td>\n",
       "      <td>418.000000</td>\n",
       "      <td>417.000000</td>\n",
       "    </tr>\n",
       "    <tr>\n",
       "      <th>mean</th>\n",
       "      <td>1100.500000</td>\n",
       "      <td>2.265550</td>\n",
       "      <td>30.272590</td>\n",
       "      <td>0.447368</td>\n",
       "      <td>0.392344</td>\n",
       "      <td>35.627188</td>\n",
       "    </tr>\n",
       "    <tr>\n",
       "      <th>std</th>\n",
       "      <td>120.810458</td>\n",
       "      <td>0.841838</td>\n",
       "      <td>14.181209</td>\n",
       "      <td>0.896760</td>\n",
       "      <td>0.981429</td>\n",
       "      <td>55.907576</td>\n",
       "    </tr>\n",
       "    <tr>\n",
       "      <th>min</th>\n",
       "      <td>892.000000</td>\n",
       "      <td>1.000000</td>\n",
       "      <td>0.170000</td>\n",
       "      <td>0.000000</td>\n",
       "      <td>0.000000</td>\n",
       "      <td>0.000000</td>\n",
       "    </tr>\n",
       "    <tr>\n",
       "      <th>25%</th>\n",
       "      <td>996.250000</td>\n",
       "      <td>1.000000</td>\n",
       "      <td>21.000000</td>\n",
       "      <td>0.000000</td>\n",
       "      <td>0.000000</td>\n",
       "      <td>7.895800</td>\n",
       "    </tr>\n",
       "    <tr>\n",
       "      <th>50%</th>\n",
       "      <td>1100.500000</td>\n",
       "      <td>3.000000</td>\n",
       "      <td>27.000000</td>\n",
       "      <td>0.000000</td>\n",
       "      <td>0.000000</td>\n",
       "      <td>14.454200</td>\n",
       "    </tr>\n",
       "    <tr>\n",
       "      <th>75%</th>\n",
       "      <td>1204.750000</td>\n",
       "      <td>3.000000</td>\n",
       "      <td>39.000000</td>\n",
       "      <td>1.000000</td>\n",
       "      <td>0.000000</td>\n",
       "      <td>31.500000</td>\n",
       "    </tr>\n",
       "    <tr>\n",
       "      <th>max</th>\n",
       "      <td>1309.000000</td>\n",
       "      <td>3.000000</td>\n",
       "      <td>76.000000</td>\n",
       "      <td>8.000000</td>\n",
       "      <td>9.000000</td>\n",
       "      <td>512.329200</td>\n",
       "    </tr>\n",
       "  </tbody>\n",
       "</table>\n",
       "</div>"
      ],
      "text/plain": [
       "       PassengerId      Pclass         Age       SibSp       Parch        Fare\n",
       "count   418.000000  418.000000  332.000000  418.000000  418.000000  417.000000\n",
       "mean   1100.500000    2.265550   30.272590    0.447368    0.392344   35.627188\n",
       "std     120.810458    0.841838   14.181209    0.896760    0.981429   55.907576\n",
       "min     892.000000    1.000000    0.170000    0.000000    0.000000    0.000000\n",
       "25%     996.250000    1.000000   21.000000    0.000000    0.000000    7.895800\n",
       "50%    1100.500000    3.000000   27.000000    0.000000    0.000000   14.454200\n",
       "75%    1204.750000    3.000000   39.000000    1.000000    0.000000   31.500000\n",
       "max    1309.000000    3.000000   76.000000    8.000000    9.000000  512.329200"
      ]
     },
     "execution_count": 11,
     "metadata": {},
     "output_type": "execute_result"
    }
   ],
   "source": [
    "#show descriptive statistic for float and int data\n",
    "test_set.describe() "
   ]
  },
  {
   "cell_type": "code",
   "execution_count": 12,
   "id": "6fedcfb7",
   "metadata": {
    "execution": {
     "iopub.execute_input": "2022-04-25T07:20:39.379974Z",
     "iopub.status.busy": "2022-04-25T07:20:39.379286Z",
     "iopub.status.idle": "2022-04-25T07:20:39.397973Z",
     "shell.execute_reply": "2022-04-25T07:20:39.397323Z",
     "shell.execute_reply.started": "2022-04-25T07:18:31.692316Z"
    },
    "id": "4ONEcdv96rv3",
    "outputId": "fef7c5c1-3b49-4b48-e9df-a8cd33b56012",
    "papermill": {
     "duration": 0.116473,
     "end_time": "2022-04-25T07:20:39.398104",
     "exception": false,
     "start_time": "2022-04-25T07:20:39.281631",
     "status": "completed"
    },
    "tags": []
   },
   "outputs": [
    {
     "data": {
      "text/html": [
       "<div>\n",
       "<style scoped>\n",
       "    .dataframe tbody tr th:only-of-type {\n",
       "        vertical-align: middle;\n",
       "    }\n",
       "\n",
       "    .dataframe tbody tr th {\n",
       "        vertical-align: top;\n",
       "    }\n",
       "\n",
       "    .dataframe thead th {\n",
       "        text-align: right;\n",
       "    }\n",
       "</style>\n",
       "<table border=\"1\" class=\"dataframe\">\n",
       "  <thead>\n",
       "    <tr style=\"text-align: right;\">\n",
       "      <th></th>\n",
       "      <th>Name</th>\n",
       "      <th>Sex</th>\n",
       "      <th>Ticket</th>\n",
       "      <th>Cabin</th>\n",
       "      <th>Embarked</th>\n",
       "    </tr>\n",
       "  </thead>\n",
       "  <tbody>\n",
       "    <tr>\n",
       "      <th>count</th>\n",
       "      <td>418</td>\n",
       "      <td>418</td>\n",
       "      <td>418</td>\n",
       "      <td>91</td>\n",
       "      <td>418</td>\n",
       "    </tr>\n",
       "    <tr>\n",
       "      <th>unique</th>\n",
       "      <td>418</td>\n",
       "      <td>2</td>\n",
       "      <td>363</td>\n",
       "      <td>76</td>\n",
       "      <td>3</td>\n",
       "    </tr>\n",
       "    <tr>\n",
       "      <th>top</th>\n",
       "      <td>Kelly, Mr. James</td>\n",
       "      <td>male</td>\n",
       "      <td>PC 17608</td>\n",
       "      <td>B57 B59 B63 B66</td>\n",
       "      <td>S</td>\n",
       "    </tr>\n",
       "    <tr>\n",
       "      <th>freq</th>\n",
       "      <td>1</td>\n",
       "      <td>266</td>\n",
       "      <td>5</td>\n",
       "      <td>3</td>\n",
       "      <td>270</td>\n",
       "    </tr>\n",
       "  </tbody>\n",
       "</table>\n",
       "</div>"
      ],
      "text/plain": [
       "                    Name   Sex    Ticket            Cabin Embarked\n",
       "count                418   418       418               91      418\n",
       "unique               418     2       363               76        3\n",
       "top     Kelly, Mr. James  male  PC 17608  B57 B59 B63 B66        S\n",
       "freq                   1   266         5                3      270"
      ]
     },
     "execution_count": 12,
     "metadata": {},
     "output_type": "execute_result"
    }
   ],
   "source": [
    "#show descriptive statistic for object data\n",
    "test_set.describe(include=object)"
   ]
  },
  {
   "cell_type": "code",
   "execution_count": 13,
   "id": "ecdc7278",
   "metadata": {
    "execution": {
     "iopub.execute_input": "2022-04-25T07:20:39.594323Z",
     "iopub.status.busy": "2022-04-25T07:20:39.593725Z",
     "iopub.status.idle": "2022-04-25T07:20:39.596902Z",
     "shell.execute_reply": "2022-04-25T07:20:39.597488Z",
     "shell.execute_reply.started": "2022-04-25T07:18:31.870168Z"
    },
    "id": "QQghAnS2qdAP",
    "papermill": {
     "duration": 0.104055,
     "end_time": "2022-04-25T07:20:39.597651",
     "exception": false,
     "start_time": "2022-04-25T07:20:39.493596",
     "status": "completed"
    },
    "tags": []
   },
   "outputs": [],
   "source": [
    "# a better style for plotting\n",
    "plt.style.use('ggplot')"
   ]
  },
  {
   "cell_type": "code",
   "execution_count": 14,
   "id": "b20456db",
   "metadata": {
    "execution": {
     "iopub.execute_input": "2022-04-25T07:20:39.794053Z",
     "iopub.status.busy": "2022-04-25T07:20:39.793475Z",
     "iopub.status.idle": "2022-04-25T07:20:39.991133Z",
     "shell.execute_reply": "2022-04-25T07:20:39.991808Z",
     "shell.execute_reply.started": "2022-04-25T07:18:32.069227Z"
    },
    "id": "M6UYnOx5qdAP",
    "outputId": "571ad80c-60e1-4a6a-8b92-54ca573bc03f",
    "papermill": {
     "duration": 0.298266,
     "end_time": "2022-04-25T07:20:39.992033",
     "exception": false,
     "start_time": "2022-04-25T07:20:39.693767",
     "status": "completed"
    },
    "tags": []
   },
   "outputs": [
    {
     "name": "stderr",
     "output_type": "stream",
     "text": [
      "/opt/conda/lib/python3.7/site-packages/seaborn/_decorators.py:43: FutureWarning: Pass the following variable as a keyword arg: x. From version 0.12, the only valid positional argument will be `data`, and passing other arguments without an explicit keyword will result in an error or misinterpretation.\n",
      "  FutureWarning\n"
     ]
    },
    {
     "data": {
      "image/png": "[encoded data removed]",
      "text/plain": [
       "<Figure size 432x288 with 1 Axes>"
      ]
     },
     "metadata": {},
     "output_type": "display_data"
    }
   ],
   "source": [
    "sns.countplot(train_set['Survived'],label='count');"
   ]
  },
  {
   "cell_type": "code",
   "execution_count": 15,
   "id": "a7b8d15b",
   "metadata": {
    "execution": {
     "iopub.execute_input": "2022-04-25T07:20:40.188967Z",
     "iopub.status.busy": "2022-04-25T07:20:40.187981Z",
     "iopub.status.idle": "2022-04-25T07:20:40.202199Z",
     "shell.execute_reply": "2022-04-25T07:20:40.201690Z",
     "shell.execute_reply.started": "2022-04-25T07:18:32.277726Z"
    },
    "id": "twLe9cb57Sf5",
    "outputId": "a6532f0a-33a9-4562-f239-9c82a29da6fd",
    "papermill": {
     "duration": 0.111991,
     "end_time": "2022-04-25T07:20:40.202335",
     "exception": false,
     "start_time": "2022-04-25T07:20:40.090344",
     "status": "completed"
    },
    "tags": []
   },
   "outputs": [
    {
     "data": {
      "text/html": [
       "<div>\n",
       "<style scoped>\n",
       "    .dataframe tbody tr th:only-of-type {\n",
       "        vertical-align: middle;\n",
       "    }\n",
       "\n",
       "    .dataframe tbody tr th {\n",
       "        vertical-align: top;\n",
       "    }\n",
       "\n",
       "    .dataframe thead th {\n",
       "        text-align: right;\n",
       "    }\n",
       "</style>\n",
       "<table border=\"1\" class=\"dataframe\">\n",
       "  <thead>\n",
       "    <tr style=\"text-align: right;\">\n",
       "      <th></th>\n",
       "      <th>count</th>\n",
       "      <th>ratio</th>\n",
       "    </tr>\n",
       "  </thead>\n",
       "  <tbody>\n",
       "    <tr>\n",
       "      <th>0</th>\n",
       "      <td>549</td>\n",
       "      <td>0.616162</td>\n",
       "    </tr>\n",
       "    <tr>\n",
       "      <th>1</th>\n",
       "      <td>342</td>\n",
       "      <td>0.383838</td>\n",
       "    </tr>\n",
       "  </tbody>\n",
       "</table>\n",
       "</div>"
      ],
      "text/plain": [
       "   count     ratio\n",
       "0    549  0.616162\n",
       "1    342  0.383838"
      ]
     },
     "execution_count": 15,
     "metadata": {},
     "output_type": "execute_result"
    }
   ],
   "source": [
    "idx = train_set.Survived.value_counts().index\n",
    "val1 = train_set.Survived.value_counts().values\n",
    "val2 = train_set.Survived.value_counts(normalize=True).values\n",
    "\n",
    "d1 = pd.DataFrame(val1,index=idx,columns=['count'])\n",
    "d2 = pd.DataFrame(val2,index=idx,columns=['ratio'])\n",
    "\n",
    "pd.concat([d1,d2],axis=1)"
   ]
  },
  {
   "cell_type": "markdown",
   "id": "34dc9fdb",
   "metadata": {
    "id": "ym6w_4wE9XVJ",
    "papermill": {
     "duration": 0.09911,
     "end_time": "2022-04-25T07:20:40.400381",
     "exception": false,
     "start_time": "2022-04-25T07:20:40.301271",
     "status": "completed"
    },
    "tags": []
   },
   "source": [
    "The ratio who survived in train set  0.383838 \n",
    "\n",
    "The ratio who not survived in train set 0.616162"
   ]
  },
  {
   "cell_type": "code",
   "execution_count": 16,
   "id": "b8cba644",
   "metadata": {
    "execution": {
     "iopub.execute_input": "2022-04-25T07:20:40.624546Z",
     "iopub.status.busy": "2022-04-25T07:20:40.623585Z",
     "iopub.status.idle": "2022-04-25T07:20:42.274028Z",
     "shell.execute_reply": "2022-04-25T07:20:42.274537Z",
     "shell.execute_reply.started": "2022-04-25T07:18:32.658557Z"
    },
    "id": "hM74I_k8qdAQ",
    "outputId": "853895f1-2489-4bda-86b1-d50334787629",
    "papermill": {
     "duration": 1.776562,
     "end_time": "2022-04-25T07:20:42.274728",
     "exception": false,
     "start_time": "2022-04-25T07:20:40.498166",
     "status": "completed"
    },
    "tags": []
   },
   "outputs": [
    {
     "data": {
      "image/png": "[encoded data removed]",
      "text/plain": [
       "<Figure size 2160x1440 with 6 Axes>"
      ]
     },
     "metadata": {},
     "output_type": "display_data"
    }
   ],
   "source": [
    "fig,axList = plt.subplots(nrows = 2, ncols = 3)\n",
    "axList = axList.flatten()\n",
    "cols = ['Pclass','Sex','SibSp','Parch','Embarked']\n",
    "fig.set_size_inches(30, 20)\n",
    "\n",
    "axList[-1].axis('off')\n",
    "\n",
    "for ax,col in zip(axList,cols):\n",
    "    sns.barplot(x=col , y=\"Survived\", data=train_set, ax=ax)\n",
    "    ax.set(title=col)\n",
    "plt.tight_layout()"
   ]
  },
  {
   "cell_type": "code",
   "execution_count": 17,
   "id": "b73515aa",
   "metadata": {
    "execution": {
     "iopub.execute_input": "2022-04-25T07:20:42.481453Z",
     "iopub.status.busy": "2022-04-25T07:20:42.480490Z",
     "iopub.status.idle": "2022-04-25T07:20:42.493865Z",
     "shell.execute_reply": "2022-04-25T07:20:42.494304Z",
     "shell.execute_reply.started": "2022-04-25T07:18:34.158544Z"
    },
    "id": "5HG95URvkaVj",
    "outputId": "1c528c93-f187-4659-9f26-14031c8941ef",
    "papermill": {
     "duration": 0.118446,
     "end_time": "2022-04-25T07:20:42.494469",
     "exception": false,
     "start_time": "2022-04-25T07:20:42.376023",
     "status": "completed"
    },
    "tags": []
   },
   "outputs": [
    {
     "data": {
      "text/html": [
       "<div>\n",
       "<style scoped>\n",
       "    .dataframe tbody tr th:only-of-type {\n",
       "        vertical-align: middle;\n",
       "    }\n",
       "\n",
       "    .dataframe tbody tr th {\n",
       "        vertical-align: top;\n",
       "    }\n",
       "\n",
       "    .dataframe thead th {\n",
       "        text-align: right;\n",
       "    }\n",
       "</style>\n",
       "<table border=\"1\" class=\"dataframe\">\n",
       "  <thead>\n",
       "    <tr style=\"text-align: right;\">\n",
       "      <th></th>\n",
       "      <th></th>\n",
       "      <th>count</th>\n",
       "      <th>Percentage</th>\n",
       "    </tr>\n",
       "    <tr>\n",
       "      <th>Pclass</th>\n",
       "      <th>Survived</th>\n",
       "      <th></th>\n",
       "      <th></th>\n",
       "    </tr>\n",
       "  </thead>\n",
       "  <tbody>\n",
       "    <tr>\n",
       "      <th rowspan=\"2\" valign=\"top\">1</th>\n",
       "      <th>1</th>\n",
       "      <td>136</td>\n",
       "      <td>0.629630</td>\n",
       "    </tr>\n",
       "    <tr>\n",
       "      <th>0</th>\n",
       "      <td>80</td>\n",
       "      <td>0.370370</td>\n",
       "    </tr>\n",
       "    <tr>\n",
       "      <th rowspan=\"2\" valign=\"top\">2</th>\n",
       "      <th>0</th>\n",
       "      <td>97</td>\n",
       "      <td>0.527174</td>\n",
       "    </tr>\n",
       "    <tr>\n",
       "      <th>1</th>\n",
       "      <td>87</td>\n",
       "      <td>0.472826</td>\n",
       "    </tr>\n",
       "    <tr>\n",
       "      <th rowspan=\"2\" valign=\"top\">3</th>\n",
       "      <th>0</th>\n",
       "      <td>372</td>\n",
       "      <td>0.757637</td>\n",
       "    </tr>\n",
       "    <tr>\n",
       "      <th>1</th>\n",
       "      <td>119</td>\n",
       "      <td>0.242363</td>\n",
       "    </tr>\n",
       "  </tbody>\n",
       "</table>\n",
       "</div>"
      ],
      "text/plain": [
       "                 count  Percentage\n",
       "Pclass Survived                   \n",
       "1      1           136    0.629630\n",
       "       0            80    0.370370\n",
       "2      0            97    0.527174\n",
       "       1            87    0.472826\n",
       "3      0           372    0.757637\n",
       "       1           119    0.242363"
      ]
     },
     "execution_count": 17,
     "metadata": {},
     "output_type": "execute_result"
    }
   ],
   "source": [
    "df = pd.DataFrame({'count':train_set.groupby('Pclass')['Survived'].value_counts(),\n",
    "                   'Percentage':train_set.groupby('Pclass')['Survived'].value_counts(normalize=True)})\n",
    "df"
   ]
  },
  {
   "cell_type": "markdown",
   "id": "bb2d8037",
   "metadata": {
    "id": "CdWmJDUxkZws",
    "papermill": {
     "duration": 0.101304,
     "end_time": "2022-04-25T07:20:42.695333",
     "exception": false,
     "start_time": "2022-04-25T07:20:42.594029",
     "status": "completed"
    },
    "tags": []
   },
   "source": [
    "Percentage of survivors with first class 0.629630\n",
    "\n",
    "Percentage of survivors with second class 0.472826\n",
    "\n",
    "Percentage of survivors with third class 0.242363"
   ]
  },
  {
   "cell_type": "code",
   "execution_count": 18,
   "id": "09c78ea6",
   "metadata": {
    "execution": {
     "iopub.execute_input": "2022-04-25T07:20:42.898168Z",
     "iopub.status.busy": "2022-04-25T07:20:42.897517Z",
     "iopub.status.idle": "2022-04-25T07:20:42.909738Z",
     "shell.execute_reply": "2022-04-25T07:20:42.910307Z",
     "shell.execute_reply.started": "2022-04-25T07:18:34.176075Z"
    },
    "id": "wzNL2POTsJMs",
    "outputId": "7ede9294-dc21-4a2c-c45c-7467e1e4e08a",
    "papermill": {
     "duration": 0.114168,
     "end_time": "2022-04-25T07:20:42.910458",
     "exception": false,
     "start_time": "2022-04-25T07:20:42.796290",
     "status": "completed"
    },
    "tags": []
   },
   "outputs": [
    {
     "data": {
      "text/html": [
       "<div>\n",
       "<style scoped>\n",
       "    .dataframe tbody tr th:only-of-type {\n",
       "        vertical-align: middle;\n",
       "    }\n",
       "\n",
       "    .dataframe tbody tr th {\n",
       "        vertical-align: top;\n",
       "    }\n",
       "\n",
       "    .dataframe thead th {\n",
       "        text-align: right;\n",
       "    }\n",
       "</style>\n",
       "<table border=\"1\" class=\"dataframe\">\n",
       "  <thead>\n",
       "    <tr style=\"text-align: right;\">\n",
       "      <th></th>\n",
       "      <th></th>\n",
       "      <th>count</th>\n",
       "      <th>Percentage</th>\n",
       "    </tr>\n",
       "    <tr>\n",
       "      <th>Sex</th>\n",
       "      <th>Survived</th>\n",
       "      <th></th>\n",
       "      <th></th>\n",
       "    </tr>\n",
       "  </thead>\n",
       "  <tbody>\n",
       "    <tr>\n",
       "      <th rowspan=\"2\" valign=\"top\">female</th>\n",
       "      <th>1</th>\n",
       "      <td>233</td>\n",
       "      <td>0.742038</td>\n",
       "    </tr>\n",
       "    <tr>\n",
       "      <th>0</th>\n",
       "      <td>81</td>\n",
       "      <td>0.257962</td>\n",
       "    </tr>\n",
       "    <tr>\n",
       "      <th rowspan=\"2\" valign=\"top\">male</th>\n",
       "      <th>0</th>\n",
       "      <td>468</td>\n",
       "      <td>0.811092</td>\n",
       "    </tr>\n",
       "    <tr>\n",
       "      <th>1</th>\n",
       "      <td>109</td>\n",
       "      <td>0.188908</td>\n",
       "    </tr>\n",
       "  </tbody>\n",
       "</table>\n",
       "</div>"
      ],
      "text/plain": [
       "                 count  Percentage\n",
       "Sex    Survived                   \n",
       "female 1           233    0.742038\n",
       "       0            81    0.257962\n",
       "male   0           468    0.811092\n",
       "       1           109    0.188908"
      ]
     },
     "execution_count": 18,
     "metadata": {},
     "output_type": "execute_result"
    }
   ],
   "source": [
    "df = pd.DataFrame({'count':train_set.groupby('Sex')['Survived'].value_counts(),\n",
    "                   'Percentage':train_set.groupby('Sex')['Survived'].value_counts(normalize=True)})\n",
    "df"
   ]
  },
  {
   "cell_type": "markdown",
   "id": "d7dbfa99",
   "metadata": {
    "id": "Y_VbA3m2kVHi",
    "papermill": {
     "duration": 0.102022,
     "end_time": "2022-04-25T07:20:43.114757",
     "exception": false,
     "start_time": "2022-04-25T07:20:43.012735",
     "status": "completed"
    },
    "tags": []
   },
   "source": [
    "Percentage of male survivors 0.188908\n",
    "\n",
    "Percentage of female survivors 0.742038"
   ]
  },
  {
   "cell_type": "code",
   "execution_count": 19,
   "id": "c0f83597",
   "metadata": {
    "execution": {
     "iopub.execute_input": "2022-04-25T07:20:43.321899Z",
     "iopub.status.busy": "2022-04-25T07:20:43.321216Z",
     "iopub.status.idle": "2022-04-25T07:20:43.334721Z",
     "shell.execute_reply": "2022-04-25T07:20:43.335241Z",
     "shell.execute_reply.started": "2022-04-25T07:18:34.193737Z"
    },
    "id": "WL2BiF8AsJ26",
    "outputId": "b61ba5ba-196e-4f59-eb71-f3ec945c44bf",
    "papermill": {
     "duration": 0.118417,
     "end_time": "2022-04-25T07:20:43.335408",
     "exception": false,
     "start_time": "2022-04-25T07:20:43.216991",
     "status": "completed"
    },
    "tags": []
   },
   "outputs": [
    {
     "data": {
      "text/html": [
       "<div>\n",
       "<style scoped>\n",
       "    .dataframe tbody tr th:only-of-type {\n",
       "        vertical-align: middle;\n",
       "    }\n",
       "\n",
       "    .dataframe tbody tr th {\n",
       "        vertical-align: top;\n",
       "    }\n",
       "\n",
       "    .dataframe thead th {\n",
       "        text-align: right;\n",
       "    }\n",
       "</style>\n",
       "<table border=\"1\" class=\"dataframe\">\n",
       "  <thead>\n",
       "    <tr style=\"text-align: right;\">\n",
       "      <th></th>\n",
       "      <th></th>\n",
       "      <th>count</th>\n",
       "      <th>Percentage</th>\n",
       "    </tr>\n",
       "    <tr>\n",
       "      <th>SibSp</th>\n",
       "      <th>Survived</th>\n",
       "      <th></th>\n",
       "      <th></th>\n",
       "    </tr>\n",
       "  </thead>\n",
       "  <tbody>\n",
       "    <tr>\n",
       "      <th rowspan=\"2\" valign=\"top\">0</th>\n",
       "      <th>0</th>\n",
       "      <td>398</td>\n",
       "      <td>0.654605</td>\n",
       "    </tr>\n",
       "    <tr>\n",
       "      <th>1</th>\n",
       "      <td>210</td>\n",
       "      <td>0.345395</td>\n",
       "    </tr>\n",
       "    <tr>\n",
       "      <th rowspan=\"2\" valign=\"top\">1</th>\n",
       "      <th>1</th>\n",
       "      <td>112</td>\n",
       "      <td>0.535885</td>\n",
       "    </tr>\n",
       "    <tr>\n",
       "      <th>0</th>\n",
       "      <td>97</td>\n",
       "      <td>0.464115</td>\n",
       "    </tr>\n",
       "    <tr>\n",
       "      <th rowspan=\"2\" valign=\"top\">2</th>\n",
       "      <th>0</th>\n",
       "      <td>15</td>\n",
       "      <td>0.535714</td>\n",
       "    </tr>\n",
       "    <tr>\n",
       "      <th>1</th>\n",
       "      <td>13</td>\n",
       "      <td>0.464286</td>\n",
       "    </tr>\n",
       "    <tr>\n",
       "      <th rowspan=\"2\" valign=\"top\">3</th>\n",
       "      <th>0</th>\n",
       "      <td>12</td>\n",
       "      <td>0.750000</td>\n",
       "    </tr>\n",
       "    <tr>\n",
       "      <th>1</th>\n",
       "      <td>4</td>\n",
       "      <td>0.250000</td>\n",
       "    </tr>\n",
       "    <tr>\n",
       "      <th rowspan=\"2\" valign=\"top\">4</th>\n",
       "      <th>0</th>\n",
       "      <td>15</td>\n",
       "      <td>0.833333</td>\n",
       "    </tr>\n",
       "    <tr>\n",
       "      <th>1</th>\n",
       "      <td>3</td>\n",
       "      <td>0.166667</td>\n",
       "    </tr>\n",
       "    <tr>\n",
       "      <th>5</th>\n",
       "      <th>0</th>\n",
       "      <td>5</td>\n",
       "      <td>1.000000</td>\n",
       "    </tr>\n",
       "    <tr>\n",
       "      <th>8</th>\n",
       "      <th>0</th>\n",
       "      <td>7</td>\n",
       "      <td>1.000000</td>\n",
       "    </tr>\n",
       "  </tbody>\n",
       "</table>\n",
       "</div>"
      ],
      "text/plain": [
       "                count  Percentage\n",
       "SibSp Survived                   \n",
       "0     0           398    0.654605\n",
       "      1           210    0.345395\n",
       "1     1           112    0.535885\n",
       "      0            97    0.464115\n",
       "2     0            15    0.535714\n",
       "      1            13    0.464286\n",
       "3     0            12    0.750000\n",
       "      1             4    0.250000\n",
       "4     0            15    0.833333\n",
       "      1             3    0.166667\n",
       "5     0             5    1.000000\n",
       "8     0             7    1.000000"
      ]
     },
     "execution_count": 19,
     "metadata": {},
     "output_type": "execute_result"
    }
   ],
   "source": [
    "df = pd.DataFrame({'count':train_set.groupby('SibSp')['Survived'].value_counts(),\n",
    "                   'Percentage':train_set.groupby('SibSp')['Survived'].value_counts(normalize=True)})\n",
    "df"
   ]
  },
  {
   "cell_type": "code",
   "execution_count": 20,
   "id": "221d719e",
   "metadata": {
    "execution": {
     "iopub.execute_input": "2022-04-25T07:20:43.543600Z",
     "iopub.status.busy": "2022-04-25T07:20:43.542722Z",
     "iopub.status.idle": "2022-04-25T07:20:43.556108Z",
     "shell.execute_reply": "2022-04-25T07:20:43.556672Z",
     "shell.execute_reply.started": "2022-04-25T07:18:34.212294Z"
    },
    "id": "Frjb2HxBsKK3",
    "outputId": "4b6211be-0e86-43dd-ecd4-f6f775110043",
    "papermill": {
     "duration": 0.119787,
     "end_time": "2022-04-25T07:20:43.556834",
     "exception": false,
     "start_time": "2022-04-25T07:20:43.437047",
     "status": "completed"
    },
    "tags": []
   },
   "outputs": [
    {
     "data": {
      "text/html": [
       "<div>\n",
       "<style scoped>\n",
       "    .dataframe tbody tr th:only-of-type {\n",
       "        vertical-align: middle;\n",
       "    }\n",
       "\n",
       "    .dataframe tbody tr th {\n",
       "        vertical-align: top;\n",
       "    }\n",
       "\n",
       "    .dataframe thead th {\n",
       "        text-align: right;\n",
       "    }\n",
       "</style>\n",
       "<table border=\"1\" class=\"dataframe\">\n",
       "  <thead>\n",
       "    <tr style=\"text-align: right;\">\n",
       "      <th></th>\n",
       "      <th></th>\n",
       "      <th>count</th>\n",
       "      <th>Percentage</th>\n",
       "    </tr>\n",
       "    <tr>\n",
       "      <th>Parch</th>\n",
       "      <th>Survived</th>\n",
       "      <th></th>\n",
       "      <th></th>\n",
       "    </tr>\n",
       "  </thead>\n",
       "  <tbody>\n",
       "    <tr>\n",
       "      <th rowspan=\"2\" valign=\"top\">0</th>\n",
       "      <th>0</th>\n",
       "      <td>445</td>\n",
       "      <td>0.656342</td>\n",
       "    </tr>\n",
       "    <tr>\n",
       "      <th>1</th>\n",
       "      <td>233</td>\n",
       "      <td>0.343658</td>\n",
       "    </tr>\n",
       "    <tr>\n",
       "      <th rowspan=\"2\" valign=\"top\">1</th>\n",
       "      <th>1</th>\n",
       "      <td>65</td>\n",
       "      <td>0.550847</td>\n",
       "    </tr>\n",
       "    <tr>\n",
       "      <th>0</th>\n",
       "      <td>53</td>\n",
       "      <td>0.449153</td>\n",
       "    </tr>\n",
       "    <tr>\n",
       "      <th rowspan=\"2\" valign=\"top\">2</th>\n",
       "      <th>0</th>\n",
       "      <td>40</td>\n",
       "      <td>0.500000</td>\n",
       "    </tr>\n",
       "    <tr>\n",
       "      <th>1</th>\n",
       "      <td>40</td>\n",
       "      <td>0.500000</td>\n",
       "    </tr>\n",
       "    <tr>\n",
       "      <th rowspan=\"2\" valign=\"top\">3</th>\n",
       "      <th>1</th>\n",
       "      <td>3</td>\n",
       "      <td>0.600000</td>\n",
       "    </tr>\n",
       "    <tr>\n",
       "      <th>0</th>\n",
       "      <td>2</td>\n",
       "      <td>0.400000</td>\n",
       "    </tr>\n",
       "    <tr>\n",
       "      <th>4</th>\n",
       "      <th>0</th>\n",
       "      <td>4</td>\n",
       "      <td>1.000000</td>\n",
       "    </tr>\n",
       "    <tr>\n",
       "      <th rowspan=\"2\" valign=\"top\">5</th>\n",
       "      <th>0</th>\n",
       "      <td>4</td>\n",
       "      <td>0.800000</td>\n",
       "    </tr>\n",
       "    <tr>\n",
       "      <th>1</th>\n",
       "      <td>1</td>\n",
       "      <td>0.200000</td>\n",
       "    </tr>\n",
       "    <tr>\n",
       "      <th>6</th>\n",
       "      <th>0</th>\n",
       "      <td>1</td>\n",
       "      <td>1.000000</td>\n",
       "    </tr>\n",
       "  </tbody>\n",
       "</table>\n",
       "</div>"
      ],
      "text/plain": [
       "                count  Percentage\n",
       "Parch Survived                   \n",
       "0     0           445    0.656342\n",
       "      1           233    0.343658\n",
       "1     1            65    0.550847\n",
       "      0            53    0.449153\n",
       "2     0            40    0.500000\n",
       "      1            40    0.500000\n",
       "3     1             3    0.600000\n",
       "      0             2    0.400000\n",
       "4     0             4    1.000000\n",
       "5     0             4    0.800000\n",
       "      1             1    0.200000\n",
       "6     0             1    1.000000"
      ]
     },
     "execution_count": 20,
     "metadata": {},
     "output_type": "execute_result"
    }
   ],
   "source": [
    "df = pd.DataFrame({'count':train_set.groupby('Parch')['Survived'].value_counts(),\n",
    "                   'Percentage':train_set.groupby('Parch')['Survived'].value_counts(normalize=True)})\n",
    "df"
   ]
  },
  {
   "cell_type": "code",
   "execution_count": 21,
   "id": "aa1df028",
   "metadata": {
    "execution": {
     "iopub.execute_input": "2022-04-25T07:20:43.769143Z",
     "iopub.status.busy": "2022-04-25T07:20:43.768164Z",
     "iopub.status.idle": "2022-04-25T07:20:43.781761Z",
     "shell.execute_reply": "2022-04-25T07:20:43.782332Z",
     "shell.execute_reply.started": "2022-04-25T07:18:34.228719Z"
    },
    "id": "TFMbpqUosKZY",
    "outputId": "cb466bd8-e221-4b30-bc68-e9291313000c",
    "papermill": {
     "duration": 0.12179,
     "end_time": "2022-04-25T07:20:43.782490",
     "exception": false,
     "start_time": "2022-04-25T07:20:43.660700",
     "status": "completed"
    },
    "tags": []
   },
   "outputs": [
    {
     "data": {
      "text/html": [
       "<div>\n",
       "<style scoped>\n",
       "    .dataframe tbody tr th:only-of-type {\n",
       "        vertical-align: middle;\n",
       "    }\n",
       "\n",
       "    .dataframe tbody tr th {\n",
       "        vertical-align: top;\n",
       "    }\n",
       "\n",
       "    .dataframe thead th {\n",
       "        text-align: right;\n",
       "    }\n",
       "</style>\n",
       "<table border=\"1\" class=\"dataframe\">\n",
       "  <thead>\n",
       "    <tr style=\"text-align: right;\">\n",
       "      <th></th>\n",
       "      <th></th>\n",
       "      <th>count</th>\n",
       "      <th>Percentage</th>\n",
       "    </tr>\n",
       "    <tr>\n",
       "      <th>Embarked</th>\n",
       "      <th>Survived</th>\n",
       "      <th></th>\n",
       "      <th></th>\n",
       "    </tr>\n",
       "  </thead>\n",
       "  <tbody>\n",
       "    <tr>\n",
       "      <th rowspan=\"2\" valign=\"top\">C</th>\n",
       "      <th>1</th>\n",
       "      <td>93</td>\n",
       "      <td>0.553571</td>\n",
       "    </tr>\n",
       "    <tr>\n",
       "      <th>0</th>\n",
       "      <td>75</td>\n",
       "      <td>0.446429</td>\n",
       "    </tr>\n",
       "    <tr>\n",
       "      <th rowspan=\"2\" valign=\"top\">Q</th>\n",
       "      <th>0</th>\n",
       "      <td>47</td>\n",
       "      <td>0.610390</td>\n",
       "    </tr>\n",
       "    <tr>\n",
       "      <th>1</th>\n",
       "      <td>30</td>\n",
       "      <td>0.389610</td>\n",
       "    </tr>\n",
       "    <tr>\n",
       "      <th rowspan=\"2\" valign=\"top\">S</th>\n",
       "      <th>0</th>\n",
       "      <td>427</td>\n",
       "      <td>0.663043</td>\n",
       "    </tr>\n",
       "    <tr>\n",
       "      <th>1</th>\n",
       "      <td>217</td>\n",
       "      <td>0.336957</td>\n",
       "    </tr>\n",
       "  </tbody>\n",
       "</table>\n",
       "</div>"
      ],
      "text/plain": [
       "                   count  Percentage\n",
       "Embarked Survived                   \n",
       "C        1            93    0.553571\n",
       "         0            75    0.446429\n",
       "Q        0            47    0.610390\n",
       "         1            30    0.389610\n",
       "S        0           427    0.663043\n",
       "         1           217    0.336957"
      ]
     },
     "execution_count": 21,
     "metadata": {},
     "output_type": "execute_result"
    }
   ],
   "source": [
    "df = pd.DataFrame({'count':train_set.groupby('Embarked')['Survived'].value_counts(),\n",
    "                   'Percentage':train_set.groupby('Embarked')['Survived'].value_counts(normalize=True)})\n",
    "df"
   ]
  },
  {
   "cell_type": "markdown",
   "id": "32fbc392",
   "metadata": {
    "id": "qsPaGPo7sKgg",
    "papermill": {
     "duration": 0.104466,
     "end_time": "2022-04-25T07:20:43.989740",
     "exception": false,
     "start_time": "2022-04-25T07:20:43.885274",
     "status": "completed"
    },
    "tags": []
   },
   "source": [
    "Percentage of survivors who left  Cherbourg  port 0.553571\n",
    "\n",
    "Percentage of survivors who left  Queenstown  port 0.389610\n",
    "\n",
    "Percentage of survivors who left  Southampton  port 0.336957"
   ]
  },
  {
   "cell_type": "code",
   "execution_count": 22,
   "id": "1e2eb698",
   "metadata": {
    "execution": {
     "iopub.execute_input": "2022-04-25T07:20:44.201276Z",
     "iopub.status.busy": "2022-04-25T07:20:44.200302Z",
     "iopub.status.idle": "2022-04-25T07:20:44.205517Z",
     "shell.execute_reply": "2022-04-25T07:20:44.206099Z",
     "shell.execute_reply.started": "2022-04-25T07:18:34.501062Z"
    },
    "id": "LrE_WRniqdAQ",
    "papermill": {
     "duration": 0.111637,
     "end_time": "2022-04-25T07:20:44.206257",
     "exception": false,
     "start_time": "2022-04-25T07:20:44.094620",
     "status": "completed"
    },
    "tags": []
   },
   "outputs": [],
   "source": [
    "#show Box Plot to see outlier \n",
    "def box_plot(df):\n",
    "    fig,ax = plt.subplots(nrows = 1, ncols = 2,figsize=(20,10))\n",
    "    sns.boxplot(df['Fare'], ax=ax[0])\n",
    "    sns.boxplot(df['Age'], ax=ax[1]);"
   ]
  },
  {
   "cell_type": "code",
   "execution_count": 23,
   "id": "df66c873",
   "metadata": {
    "execution": {
     "iopub.execute_input": "2022-04-25T07:20:44.416957Z",
     "iopub.status.busy": "2022-04-25T07:20:44.416010Z",
     "iopub.status.idle": "2022-04-25T07:20:44.714516Z",
     "shell.execute_reply": "2022-04-25T07:20:44.715042Z",
     "shell.execute_reply.started": "2022-04-25T07:18:34.702021Z"
    },
    "id": "6W8p8MM8qdAQ",
    "outputId": "2284cc50-6c18-486c-e3b4-a3fedd0a9853",
    "papermill": {
     "duration": 0.404496,
     "end_time": "2022-04-25T07:20:44.715205",
     "exception": false,
     "start_time": "2022-04-25T07:20:44.310709",
     "status": "completed"
    },
    "tags": []
   },
   "outputs": [
    {
     "name": "stderr",
     "output_type": "stream",
     "text": [
      "/opt/conda/lib/python3.7/site-packages/seaborn/_decorators.py:43: FutureWarning: Pass the following variable as a keyword arg: x. From version 0.12, the only valid positional argument will be `data`, and passing other arguments without an explicit keyword will result in an error or misinterpretation.\n",
      "  FutureWarning\n",
      "/opt/conda/lib/python3.7/site-packages/seaborn/_decorators.py:43: FutureWarning: Pass the following variable as a keyword arg: x. From version 0.12, the only valid positional argument will be `data`, and passing other arguments without an explicit keyword will result in an error or misinterpretation.\n",
      "  FutureWarning\n"
     ]
    },
    {
     "data": {
      "image/png": "[encoded data removed]",
      "text/plain": [
       "<Figure size 1440x720 with 2 Axes>"
      ]
     },
     "metadata": {},
     "output_type": "display_data"
    }
   ],
   "source": [
    "box_plot(train_set)"
   ]
  },
  {
   "cell_type": "code",
   "execution_count": 24,
   "id": "6314cb10",
   "metadata": {
    "execution": {
     "iopub.execute_input": "2022-04-25T07:20:44.931538Z",
     "iopub.status.busy": "2022-04-25T07:20:44.930537Z",
     "iopub.status.idle": "2022-04-25T07:20:45.343553Z",
     "shell.execute_reply": "2022-04-25T07:20:45.343999Z",
     "shell.execute_reply.started": "2022-04-25T07:18:35.006672Z"
    },
    "id": "HnTI5smTqdAR",
    "outputId": "cabbf616-cb71-40d9-9a94-0f79703616fb",
    "papermill": {
     "duration": 0.524407,
     "end_time": "2022-04-25T07:20:45.344163",
     "exception": false,
     "start_time": "2022-04-25T07:20:44.819756",
     "status": "completed"
    },
    "tags": []
   },
   "outputs": [
    {
     "name": "stderr",
     "output_type": "stream",
     "text": [
      "/opt/conda/lib/python3.7/site-packages/seaborn/_decorators.py:43: FutureWarning: Pass the following variable as a keyword arg: x. From version 0.12, the only valid positional argument will be `data`, and passing other arguments without an explicit keyword will result in an error or misinterpretation.\n",
      "  FutureWarning\n",
      "/opt/conda/lib/python3.7/site-packages/seaborn/_decorators.py:43: FutureWarning: Pass the following variable as a keyword arg: x. From version 0.12, the only valid positional argument will be `data`, and passing other arguments without an explicit keyword will result in an error or misinterpretation.\n",
      "  FutureWarning\n"
     ]
    },
    {
     "data": {
      "image/png": "[encoded data removed]",
      "text/plain": [
       "<Figure size 1440x720 with 2 Axes>"
      ]
     },
     "metadata": {},
     "output_type": "display_data"
    }
   ],
   "source": [
    "box_plot(test_set)"
   ]
  },
  {
   "cell_type": "code",
   "execution_count": 25,
   "id": "6c232bf3",
   "metadata": {
    "execution": {
     "iopub.execute_input": "2022-04-25T07:20:45.563733Z",
     "iopub.status.busy": "2022-04-25T07:20:45.562774Z",
     "iopub.status.idle": "2022-04-25T07:20:45.570811Z",
     "shell.execute_reply": "2022-04-25T07:20:45.571344Z",
     "shell.execute_reply.started": "2022-04-25T07:18:35.289858Z"
    },
    "id": "Mz3rBqwIqdAR",
    "papermill": {
     "duration": 0.11973,
     "end_time": "2022-04-25T07:20:45.571520",
     "exception": false,
     "start_time": "2022-04-25T07:20:45.451790",
     "status": "completed"
    },
    "tags": []
   },
   "outputs": [],
   "source": [
    "#for remove outlier in train_set and test\n",
    "def remove_outlier(df): \n",
    "    \n",
    "    lis = list()\n",
    "\n",
    "    for col in ['Fare','Age']:\n",
    "    \n",
    "        q1 = df[col].quantile(0.25)\n",
    "        q3 = df[col].quantile(0.75)\n",
    "    \n",
    "        iqr = q3 - q1\n",
    "    \n",
    "        max_limit = q3 + iqr*1.5\n",
    "        min_limit = q1 - iqr*1.5\n",
    "    \n",
    "        outlier = [x for x in df[col] if x > max_limit or x < min_limit]\n",
    "        lis.append(len(outlier))\n",
    "    \n",
    "        df[col] = df[col].replace(outlier,-1)\n",
    "        df[col] = df[col].replace(-1,df[col].mean())\n",
    "        \n",
    "    # count and rario of outlier data in Fare and Age columns\n",
    "    df_outlier = pd.DataFrame(lis,index=['Fare outlier','Age outlier'],columns=['count'])\n",
    "    df_outlier['ratio'] = df_outlier['count']/len(train_set)  \n",
    "    \n",
    "    return df_outlier\n",
    "            "
   ]
  },
  {
   "cell_type": "code",
   "execution_count": 26,
   "id": "f3095bbf",
   "metadata": {
    "execution": {
     "iopub.execute_input": "2022-04-25T07:20:45.788812Z",
     "iopub.status.busy": "2022-04-25T07:20:45.787852Z",
     "iopub.status.idle": "2022-04-25T07:20:45.816566Z",
     "shell.execute_reply": "2022-04-25T07:20:45.817120Z",
     "shell.execute_reply.started": "2022-04-25T07:18:35.298783Z"
    },
    "id": "MTjf1cwfqdAR",
    "outputId": "bc93833f-3efd-42fd-b1e8-6e6caaf58218",
    "papermill": {
     "duration": 0.139072,
     "end_time": "2022-04-25T07:20:45.817290",
     "exception": false,
     "start_time": "2022-04-25T07:20:45.678218",
     "status": "completed"
    },
    "tags": []
   },
   "outputs": [
    {
     "data": {
      "text/html": [
       "<div>\n",
       "<style scoped>\n",
       "    .dataframe tbody tr th:only-of-type {\n",
       "        vertical-align: middle;\n",
       "    }\n",
       "\n",
       "    .dataframe tbody tr th {\n",
       "        vertical-align: top;\n",
       "    }\n",
       "\n",
       "    .dataframe thead th {\n",
       "        text-align: right;\n",
       "    }\n",
       "</style>\n",
       "<table border=\"1\" class=\"dataframe\">\n",
       "  <thead>\n",
       "    <tr style=\"text-align: right;\">\n",
       "      <th></th>\n",
       "      <th>count</th>\n",
       "      <th>ratio</th>\n",
       "    </tr>\n",
       "  </thead>\n",
       "  <tbody>\n",
       "    <tr>\n",
       "      <th>Fare outlier</th>\n",
       "      <td>116</td>\n",
       "      <td>0.130191</td>\n",
       "    </tr>\n",
       "    <tr>\n",
       "      <th>Age outlier</th>\n",
       "      <td>11</td>\n",
       "      <td>0.012346</td>\n",
       "    </tr>\n",
       "  </tbody>\n",
       "</table>\n",
       "</div>"
      ],
      "text/plain": [
       "              count     ratio\n",
       "Fare outlier    116  0.130191\n",
       "Age outlier      11  0.012346"
      ]
     },
     "execution_count": 26,
     "metadata": {},
     "output_type": "execute_result"
    }
   ],
   "source": [
    "remove_outlier(train_set)"
   ]
  },
  {
   "cell_type": "markdown",
   "id": "5ed7844d",
   "metadata": {
    "id": "cw4OuKuzTAES",
    "papermill": {
     "duration": 0.10946,
     "end_time": "2022-04-25T07:20:46.039386",
     "exception": false,
     "start_time": "2022-04-25T07:20:45.929926",
     "status": "completed"
    },
    "tags": []
   },
   "source": [
    "the ratio of outlier in Fare column 0.053872\n",
    "\n",
    "the ratio of outlier in Age column 0.004489"
   ]
  },
  {
   "cell_type": "code",
   "execution_count": 27,
   "id": "8fd1d4c6",
   "metadata": {
    "execution": {
     "iopub.execute_input": "2022-04-25T07:20:46.262132Z",
     "iopub.status.busy": "2022-04-25T07:20:46.261135Z",
     "iopub.status.idle": "2022-04-25T07:20:46.279851Z",
     "shell.execute_reply": "2022-04-25T07:20:46.280379Z",
     "shell.execute_reply.started": "2022-04-25T07:18:35.655931Z"
    },
    "id": "LJSwEBsZqdAS",
    "outputId": "f1ee0fe3-0edf-4653-b285-6e40d82a7245",
    "papermill": {
     "duration": 0.132417,
     "end_time": "2022-04-25T07:20:46.280560",
     "exception": false,
     "start_time": "2022-04-25T07:20:46.148143",
     "status": "completed"
    },
    "tags": []
   },
   "outputs": [
    {
     "data": {
      "text/html": [
       "<div>\n",
       "<style scoped>\n",
       "    .dataframe tbody tr th:only-of-type {\n",
       "        vertical-align: middle;\n",
       "    }\n",
       "\n",
       "    .dataframe tbody tr th {\n",
       "        vertical-align: top;\n",
       "    }\n",
       "\n",
       "    .dataframe thead th {\n",
       "        text-align: right;\n",
       "    }\n",
       "</style>\n",
       "<table border=\"1\" class=\"dataframe\">\n",
       "  <thead>\n",
       "    <tr style=\"text-align: right;\">\n",
       "      <th></th>\n",
       "      <th>count</th>\n",
       "      <th>ratio</th>\n",
       "    </tr>\n",
       "  </thead>\n",
       "  <tbody>\n",
       "    <tr>\n",
       "      <th>Fare outlier</th>\n",
       "      <td>55</td>\n",
       "      <td>0.061728</td>\n",
       "    </tr>\n",
       "    <tr>\n",
       "      <th>Age outlier</th>\n",
       "      <td>2</td>\n",
       "      <td>0.002245</td>\n",
       "    </tr>\n",
       "  </tbody>\n",
       "</table>\n",
       "</div>"
      ],
      "text/plain": [
       "              count     ratio\n",
       "Fare outlier     55  0.061728\n",
       "Age outlier       2  0.002245"
      ]
     },
     "execution_count": 27,
     "metadata": {},
     "output_type": "execute_result"
    }
   ],
   "source": [
    "remove_outlier(test_set)"
   ]
  },
  {
   "cell_type": "code",
   "execution_count": 28,
   "id": "6d70522e",
   "metadata": {
    "execution": {
     "iopub.execute_input": "2022-04-25T07:20:46.502089Z",
     "iopub.status.busy": "2022-04-25T07:20:46.501094Z",
     "iopub.status.idle": "2022-04-25T07:20:46.958478Z",
     "shell.execute_reply": "2022-04-25T07:20:46.958976Z",
     "shell.execute_reply.started": "2022-04-25T07:18:36.673402Z"
    },
    "id": "oUa-OFmGqdAS",
    "outputId": "ddd8c837-4d3b-48dc-99b0-4a48ab8c608b",
    "papermill": {
     "duration": 0.57075,
     "end_time": "2022-04-25T07:20:46.959166",
     "exception": false,
     "start_time": "2022-04-25T07:20:46.388416",
     "status": "completed"
    },
    "tags": []
   },
   "outputs": [
    {
     "data": {
      "image/png": "[encoded data removed]",
      "text/plain": [
       "<Figure size 1440x720 with 2 Axes>"
      ]
     },
     "metadata": {},
     "output_type": "display_data"
    }
   ],
   "source": [
    "#show Age and Fare distribution\n",
    "fig,ax = plt.subplots(nrows = 1, ncols = 2,figsize=(20,10))\n",
    "sns.histplot(train_set['Age'], ax=ax[0])\n",
    "sns.histplot(train_set['Fare'], ax=ax[1]);"
   ]
  },
  {
   "cell_type": "code",
   "execution_count": 29,
   "id": "326227ed",
   "metadata": {
    "execution": {
     "iopub.execute_input": "2022-04-25T07:20:47.179721Z",
     "iopub.status.busy": "2022-04-25T07:20:47.179092Z",
     "iopub.status.idle": "2022-04-25T07:20:47.188586Z",
     "shell.execute_reply": "2022-04-25T07:20:47.189128Z",
     "shell.execute_reply.started": "2022-04-25T07:18:37.135749Z"
    },
    "id": "IYhhCkwlqdAS",
    "outputId": "5b6f36c6-5178-42fc-9949-c3ea71cfe72d",
    "papermill": {
     "duration": 0.12198,
     "end_time": "2022-04-25T07:20:47.189286",
     "exception": false,
     "start_time": "2022-04-25T07:20:47.067306",
     "status": "completed"
    },
    "tags": []
   },
   "outputs": [
    {
     "data": {
      "text/html": [
       "<div>\n",
       "<style scoped>\n",
       "    .dataframe tbody tr th:only-of-type {\n",
       "        vertical-align: middle;\n",
       "    }\n",
       "\n",
       "    .dataframe tbody tr th {\n",
       "        vertical-align: top;\n",
       "    }\n",
       "\n",
       "    .dataframe thead th {\n",
       "        text-align: right;\n",
       "    }\n",
       "</style>\n",
       "<table border=\"1\" class=\"dataframe\">\n",
       "  <thead>\n",
       "    <tr style=\"text-align: right;\">\n",
       "      <th></th>\n",
       "      <th>skewness</th>\n",
       "    </tr>\n",
       "  </thead>\n",
       "  <tbody>\n",
       "    <tr>\n",
       "      <th>Age</th>\n",
       "      <td>0.203746</td>\n",
       "    </tr>\n",
       "    <tr>\n",
       "      <th>Fare</th>\n",
       "      <td>1.598576</td>\n",
       "    </tr>\n",
       "  </tbody>\n",
       "</table>\n",
       "</div>"
      ],
      "text/plain": [
       "      skewness\n",
       "Age   0.203746\n",
       "Fare  1.598576"
      ]
     },
     "execution_count": 29,
     "metadata": {},
     "output_type": "execute_result"
    }
   ],
   "source": [
    "train_set[['Age','Fare']].skew().to_frame(name='skewness')"
   ]
  },
  {
   "cell_type": "markdown",
   "id": "8f79b1c2",
   "metadata": {
    "id": "sHwqlmmEUeVj",
    "papermill": {
     "duration": 0.133274,
     "end_time": "2022-04-25T07:20:47.431149",
     "exception": false,
     "start_time": "2022-04-25T07:20:47.297875",
     "status": "completed"
    },
    "tags": []
   },
   "source": [
    "the skewness in Age is not big, but in Far is big "
   ]
  },
  {
   "cell_type": "code",
   "execution_count": 30,
   "id": "28adadd0",
   "metadata": {
    "execution": {
     "iopub.execute_input": "2022-04-25T07:20:47.657592Z",
     "iopub.status.busy": "2022-04-25T07:20:47.656651Z",
     "iopub.status.idle": "2022-04-25T07:20:48.135146Z",
     "shell.execute_reply": "2022-04-25T07:20:48.135637Z",
     "shell.execute_reply.started": "2022-04-25T07:18:37.147244Z"
    },
    "id": "2pApSPVuqdAS",
    "outputId": "ca6e4220-a8f1-417a-b3d7-a67e7fe383c3",
    "papermill": {
     "duration": 0.592743,
     "end_time": "2022-04-25T07:20:48.135804",
     "exception": false,
     "start_time": "2022-04-25T07:20:47.543061",
     "status": "completed"
    },
    "tags": []
   },
   "outputs": [
    {
     "name": "stderr",
     "output_type": "stream",
     "text": [
      "/opt/conda/lib/python3.7/site-packages/seaborn/_decorators.py:43: FutureWarning: Pass the following variables as keyword args: x, y. From version 0.12, the only valid positional argument will be `data`, and passing other arguments without an explicit keyword will result in an error or misinterpretation.\n",
      "  FutureWarning\n"
     ]
    },
    {
     "data": {
      "image/png": "[encoded data removed]",
      "text/plain": [
       "<Figure size 1440x720 with 3 Axes>"
      ]
     },
     "metadata": {},
     "output_type": "display_data"
    },
    {
     "data": {
      "text/plain": [
       "<Figure size 720x720 with 0 Axes>"
      ]
     },
     "metadata": {},
     "output_type": "display_data"
    }
   ],
   "source": [
    "corr = train_set[['Age','Fare']].corr()# .corr is used for find corelation\n",
    "fig,ax = plt.subplots(1,2,figsize=(20,10))\n",
    "plt.figure(figsize=(10,10))\n",
    "sns.heatmap(corr, cbar = True,  square = True, annot=True, fmt= '.2f',annot_kws={'size': 15},\n",
    "           xticklabels= ['Age','Fare'], yticklabels= ['Age','Fare'],cmap= 'coolwarm',ax=ax[0])\n",
    "sns.scatterplot(train_set['Fare'],train_set['Age'],ax=ax[1]);"
   ]
  },
  {
   "cell_type": "markdown",
   "id": "5a0c1854",
   "metadata": {
    "id": "NsffsesuWZ6o",
    "papermill": {
     "duration": 0.111194,
     "end_time": "2022-04-25T07:20:48.362439",
     "exception": false,
     "start_time": "2022-04-25T07:20:48.251245",
     "status": "completed"
    },
    "tags": []
   },
   "source": [
    "There is no linear correlation between age and Fare"
   ]
  },
  {
   "cell_type": "markdown",
   "id": "02b25ea1",
   "metadata": {
    "id": "lehtcxn6qdAT",
    "papermill": {
     "duration": 0.112377,
     "end_time": "2022-04-25T07:20:48.587813",
     "exception": false,
     "start_time": "2022-04-25T07:20:48.475436",
     "status": "completed"
    },
    "tags": []
   },
   "source": [
    "# Data Preprocessing"
   ]
  },
  {
   "cell_type": "code",
   "execution_count": 31,
   "id": "c8dbb203",
   "metadata": {
    "execution": {
     "iopub.execute_input": "2022-04-25T07:20:48.814803Z",
     "iopub.status.busy": "2022-04-25T07:20:48.814169Z",
     "iopub.status.idle": "2022-04-25T07:20:48.825302Z",
     "shell.execute_reply": "2022-04-25T07:20:48.825810Z",
     "shell.execute_reply.started": "2022-04-25T07:18:37.602607Z"
    },
    "id": "IMlYee1KqdAT",
    "papermill": {
     "duration": 0.127218,
     "end_time": "2022-04-25T07:20:48.825974",
     "exception": false,
     "start_time": "2022-04-25T07:20:48.698756",
     "status": "completed"
    },
    "tags": []
   },
   "outputs": [],
   "source": [
    "#convert type of data from string to number \n",
    "# Sex column (male=0,female=1)\n",
    "# Embarked column (C=1,S=2,Q=3)\n",
    "train_set['Sex'] = train_set['Sex'].replace({'male': 0 , 'female': 1})\n",
    "test_set['Sex'] = test_set['Sex'].replace({'male': 0 , 'female':1 })\n",
    "train_set['Embarked'] = train_set['Embarked'].replace({'C': 1 , 'S': 2,'Q': 3})\n",
    "test_set['Embarked'] = test_set['Embarked'].replace({'C': 1 , 'S': 2,'Q': 3})"
   ]
  },
  {
   "cell_type": "code",
   "execution_count": 32,
   "id": "2de62254",
   "metadata": {
    "execution": {
     "iopub.execute_input": "2022-04-25T07:20:49.061897Z",
     "iopub.status.busy": "2022-04-25T07:20:49.061276Z",
     "iopub.status.idle": "2022-04-25T07:20:49.073873Z",
     "shell.execute_reply": "2022-04-25T07:20:49.074434Z",
     "shell.execute_reply.started": "2022-04-25T07:18:37.616667Z"
    },
    "id": "W57VIWgFqdAT",
    "outputId": "2bc24bd5-a45c-4ee4-c158-265571f19eaa",
    "papermill": {
     "duration": 0.130727,
     "end_time": "2022-04-25T07:20:49.074635",
     "exception": false,
     "start_time": "2022-04-25T07:20:48.943908",
     "status": "completed"
    },
    "tags": []
   },
   "outputs": [
    {
     "data": {
      "text/html": [
       "<div>\n",
       "<style scoped>\n",
       "    .dataframe tbody tr th:only-of-type {\n",
       "        vertical-align: middle;\n",
       "    }\n",
       "\n",
       "    .dataframe tbody tr th {\n",
       "        vertical-align: top;\n",
       "    }\n",
       "\n",
       "    .dataframe thead th {\n",
       "        text-align: right;\n",
       "    }\n",
       "</style>\n",
       "<table border=\"1\" class=\"dataframe\">\n",
       "  <thead>\n",
       "    <tr style=\"text-align: right;\">\n",
       "      <th></th>\n",
       "      <th>count</th>\n",
       "      <th>ratio</th>\n",
       "    </tr>\n",
       "  </thead>\n",
       "  <tbody>\n",
       "    <tr>\n",
       "      <th>Age</th>\n",
       "      <td>177</td>\n",
       "      <td>0.198653</td>\n",
       "    </tr>\n",
       "    <tr>\n",
       "      <th>Cabin</th>\n",
       "      <td>687</td>\n",
       "      <td>0.771044</td>\n",
       "    </tr>\n",
       "    <tr>\n",
       "      <th>Embarked</th>\n",
       "      <td>2</td>\n",
       "      <td>0.002245</td>\n",
       "    </tr>\n",
       "  </tbody>\n",
       "</table>\n",
       "</div>"
      ],
      "text/plain": [
       "          count     ratio\n",
       "Age         177  0.198653\n",
       "Cabin       687  0.771044\n",
       "Embarked      2  0.002245"
      ]
     },
     "execution_count": 32,
     "metadata": {},
     "output_type": "execute_result"
    }
   ],
   "source": [
    "#show missing values\n",
    "nan_value = train_set.isnull().sum()\n",
    "nan_value = nan_value[nan_value>0]\n",
    "nan_value_df = pd.DataFrame(nan_value.values, index=nan_value.index, columns=['count'])\n",
    "nan_value_df['ratio'] = nan_value_df['count']/len(train_set)\n",
    "nan_value_df"
   ]
  },
  {
   "cell_type": "markdown",
   "id": "f08afd2d",
   "metadata": {
    "id": "K6aT_BtKl0Bo",
    "papermill": {
     "duration": 0.11221,
     "end_time": "2022-04-25T07:20:49.301321",
     "exception": false,
     "start_time": "2022-04-25T07:20:49.189111",
     "status": "completed"
    },
    "tags": []
   },
   "source": [
    "train_set\n",
    "\n",
    "ratio of missing values in the age column 0.198653\n",
    "\n",
    "ratio of missing values in the Cabin column 0.771044 (It's big)\n",
    "\n",
    "ratio of missing values in the Embarked column 0.002245\n"
   ]
  },
  {
   "cell_type": "code",
   "execution_count": 33,
   "id": "260370f8",
   "metadata": {
    "execution": {
     "iopub.execute_input": "2022-04-25T07:20:49.528414Z",
     "iopub.status.busy": "2022-04-25T07:20:49.527730Z",
     "iopub.status.idle": "2022-04-25T07:20:49.540067Z",
     "shell.execute_reply": "2022-04-25T07:20:49.540587Z",
     "shell.execute_reply.started": "2022-04-25T07:18:37.865341Z"
    },
    "id": "HuUKo82nqdAT",
    "outputId": "402185fa-7fc1-42c0-e3c3-22514c78de42",
    "papermill": {
     "duration": 0.126808,
     "end_time": "2022-04-25T07:20:49.540752",
     "exception": false,
     "start_time": "2022-04-25T07:20:49.413944",
     "status": "completed"
    },
    "tags": []
   },
   "outputs": [
    {
     "data": {
      "text/html": [
       "<div>\n",
       "<style scoped>\n",
       "    .dataframe tbody tr th:only-of-type {\n",
       "        vertical-align: middle;\n",
       "    }\n",
       "\n",
       "    .dataframe tbody tr th {\n",
       "        vertical-align: top;\n",
       "    }\n",
       "\n",
       "    .dataframe thead th {\n",
       "        text-align: right;\n",
       "    }\n",
       "</style>\n",
       "<table border=\"1\" class=\"dataframe\">\n",
       "  <thead>\n",
       "    <tr style=\"text-align: right;\">\n",
       "      <th></th>\n",
       "      <th>count</th>\n",
       "      <th>ratio</th>\n",
       "    </tr>\n",
       "  </thead>\n",
       "  <tbody>\n",
       "    <tr>\n",
       "      <th>Age</th>\n",
       "      <td>86</td>\n",
       "      <td>0.205742</td>\n",
       "    </tr>\n",
       "    <tr>\n",
       "      <th>Fare</th>\n",
       "      <td>1</td>\n",
       "      <td>0.002392</td>\n",
       "    </tr>\n",
       "    <tr>\n",
       "      <th>Cabin</th>\n",
       "      <td>327</td>\n",
       "      <td>0.782297</td>\n",
       "    </tr>\n",
       "  </tbody>\n",
       "</table>\n",
       "</div>"
      ],
      "text/plain": [
       "       count     ratio\n",
       "Age       86  0.205742\n",
       "Fare       1  0.002392\n",
       "Cabin    327  0.782297"
      ]
     },
     "execution_count": 33,
     "metadata": {},
     "output_type": "execute_result"
    }
   ],
   "source": [
    "nan_value1 = test_set.isnull().sum()\n",
    "nan_value1 = nan_value1[nan_value1>0]\n",
    "nan_value1_df = pd.DataFrame(nan_value1.values, index=nan_value1.index, columns=['count'])\n",
    "nan_value1_df['ratio'] = nan_value1_df['count']/len(test_set)\n",
    "nan_value1_df"
   ]
  },
  {
   "cell_type": "markdown",
   "id": "68fe40b3",
   "metadata": {
    "id": "CKZlGpOLm5Kw",
    "papermill": {
     "duration": 0.112109,
     "end_time": "2022-04-25T07:20:49.766198",
     "exception": false,
     "start_time": "2022-04-25T07:20:49.654089",
     "status": "completed"
    },
    "tags": []
   },
   "source": [
    "test_set \n",
    "\n",
    "ratio of missing values in the age column 0.205742\n",
    "\n",
    "ratio of missing values in the Cabin column0.782297 (It's big)\n",
    "\n",
    "ratio of missing values in the Fare column 0.002392"
   ]
  },
  {
   "cell_type": "code",
   "execution_count": 34,
   "id": "5ee7afcf",
   "metadata": {
    "execution": {
     "iopub.execute_input": "2022-04-25T07:20:49.996399Z",
     "iopub.status.busy": "2022-04-25T07:20:49.995803Z",
     "iopub.status.idle": "2022-04-25T07:20:50.002426Z",
     "shell.execute_reply": "2022-04-25T07:20:50.003044Z",
     "shell.execute_reply.started": "2022-04-25T07:18:38.232461Z"
    },
    "id": "k3224apPqdAU",
    "papermill": {
     "duration": 0.123746,
     "end_time": "2022-04-25T07:20:50.003218",
     "exception": false,
     "start_time": "2022-04-25T07:20:49.879472",
     "status": "completed"
    },
    "tags": []
   },
   "outputs": [],
   "source": [
    "train_set['Embarked'].fillna(train_set['Embarked'].mode().iloc[0],inplace=True)\n",
    "test_set['Fare'].fillna(test_set['Fare'].mean(),inplace=True)"
   ]
  },
  {
   "cell_type": "markdown",
   "id": "45e9e49a",
   "metadata": {
    "id": "qEN5NNdtoP_5",
    "papermill": {
     "duration": 0.113166,
     "end_time": "2022-04-25T07:20:50.229779",
     "exception": false,
     "start_time": "2022-04-25T07:20:50.116613",
     "status": "completed"
    },
    "tags": []
   },
   "source": [
    "replace missing values to mode value in Embarked column\n",
    "\n",
    "replace missing values to mean value in Fare column"
   ]
  },
  {
   "cell_type": "code",
   "execution_count": 35,
   "id": "532f45fe",
   "metadata": {
    "execution": {
     "iopub.execute_input": "2022-04-25T07:20:50.458286Z",
     "iopub.status.busy": "2022-04-25T07:20:50.457685Z",
     "iopub.status.idle": "2022-04-25T07:20:50.462743Z",
     "shell.execute_reply": "2022-04-25T07:20:50.463284Z",
     "shell.execute_reply.started": "2022-04-25T07:18:38.656794Z"
    },
    "id": "d9KjS8NVoeSM",
    "papermill": {
     "duration": 0.120858,
     "end_time": "2022-04-25T07:20:50.463436",
     "exception": false,
     "start_time": "2022-04-25T07:20:50.342578",
     "status": "completed"
    },
    "tags": []
   },
   "outputs": [],
   "source": [
    "train_set['Age'].fillna(train_set['Age'].mean(),inplace=True)\n",
    "test_set['Age'].fillna(test_set['Age'].mean(),inplace=True)"
   ]
  },
  {
   "cell_type": "markdown",
   "id": "35c9563f",
   "metadata": {
    "id": "jxpVZ4Swpj9j",
    "papermill": {
     "duration": 0.11215,
     "end_time": "2022-04-25T07:20:50.689149",
     "exception": false,
     "start_time": "2022-04-25T07:20:50.576999",
     "status": "completed"
    },
    "tags": []
   },
   "source": [
    "replace missing values to mean value in Age value"
   ]
  },
  {
   "cell_type": "markdown",
   "id": "c008b272",
   "metadata": {
    "id": "lof_k0Chp2tH",
    "papermill": {
     "duration": 0.112974,
     "end_time": "2022-04-25T07:20:50.915807",
     "exception": false,
     "start_time": "2022-04-25T07:20:50.802833",
     "status": "completed"
    },
    "tags": []
   },
   "source": [
    "these \"Cabin\",\"Name\",\"PassengerId\" and \"Ticket\" columns are not important for machine learning model, so we delete them"
   ]
  },
  {
   "cell_type": "code",
   "execution_count": 36,
   "id": "9fca2b35",
   "metadata": {
    "execution": {
     "iopub.execute_input": "2022-04-25T07:20:51.142558Z",
     "iopub.status.busy": "2022-04-25T07:20:51.141862Z",
     "iopub.status.idle": "2022-04-25T07:20:51.148183Z",
     "shell.execute_reply": "2022-04-25T07:20:51.148754Z",
     "shell.execute_reply.started": "2022-04-25T07:18:39.343854Z"
    },
    "id": "svdvRsvEqdAU",
    "papermill": {
     "duration": 0.121638,
     "end_time": "2022-04-25T07:20:51.148915",
     "exception": false,
     "start_time": "2022-04-25T07:20:51.027277",
     "status": "completed"
    },
    "tags": []
   },
   "outputs": [],
   "source": [
    "train_set.drop([\"Cabin\",\"Name\",\"PassengerId\",\"Ticket\"],axis=1,inplace=True)\n",
    "test_set.drop([\"Cabin\",\"Name\",\"PassengerId\",\"Ticket\"],axis=1,inplace=True)"
   ]
  },
  {
   "cell_type": "code",
   "execution_count": 37,
   "id": "5255f020",
   "metadata": {
    "execution": {
     "iopub.execute_input": "2022-04-25T07:20:51.379154Z",
     "iopub.status.busy": "2022-04-25T07:20:51.378549Z",
     "iopub.status.idle": "2022-04-25T07:20:51.382846Z",
     "shell.execute_reply": "2022-04-25T07:20:51.383411Z",
     "shell.execute_reply.started": "2022-04-25T07:18:39.483103Z"
    },
    "id": "H7hYQAPHZUmq",
    "papermill": {
     "duration": 0.121895,
     "end_time": "2022-04-25T07:20:51.383596",
     "exception": false,
     "start_time": "2022-04-25T07:20:51.261701",
     "status": "completed"
    },
    "tags": []
   },
   "outputs": [],
   "source": [
    "X_train_set = train_set.drop(['Survived'],axis=1)\n",
    "Y_train_set = train_set['Survived']"
   ]
  },
  {
   "cell_type": "markdown",
   "id": "5f11a2bd",
   "metadata": {
    "id": "o4nLu2lVc1Hd",
    "papermill": {
     "duration": 0.114613,
     "end_time": "2022-04-25T07:20:51.610817",
     "exception": false,
     "start_time": "2022-04-25T07:20:51.496204",
     "status": "completed"
    },
    "tags": []
   },
   "source": [
    "I will merge train_set and test_set, because in test_set in Parch column we have  value 9, but in train_set we don't have this value.\n",
    "\n",
    "if we implement pd.get_dummies(data,columns=['Pclass','SibSp','Parch','Embarked'], drop_first=True) in train_set and test_set Separately , they will be different \n",
    "\n",
    "I mean, it will appear Parch_9 column in test_set and It will not appear in train_set\n"
   ]
  },
  {
   "cell_type": "code",
   "execution_count": 38,
   "id": "500a06e5",
   "metadata": {
    "execution": {
     "iopub.execute_input": "2022-04-25T07:20:51.840279Z",
     "iopub.status.busy": "2022-04-25T07:20:51.839333Z",
     "iopub.status.idle": "2022-04-25T07:20:51.845253Z",
     "shell.execute_reply": "2022-04-25T07:20:51.845827Z",
     "shell.execute_reply.started": "2022-04-25T07:18:39.910563Z"
    },
    "id": "ViQpT7XRZf-b",
    "outputId": "392343bd-a6a4-45b8-86ba-3cc4edfb6759",
    "papermill": {
     "duration": 0.122928,
     "end_time": "2022-04-25T07:20:51.845997",
     "exception": false,
     "start_time": "2022-04-25T07:20:51.723069",
     "status": "completed"
    },
    "tags": []
   },
   "outputs": [],
   "source": [
    "data = pd.concat([X_train_set,test_set])"
   ]
  },
  {
   "cell_type": "code",
   "execution_count": 39,
   "id": "0db8235d",
   "metadata": {
    "execution": {
     "iopub.execute_input": "2022-04-25T07:20:52.079219Z",
     "iopub.status.busy": "2022-04-25T07:20:52.078223Z",
     "iopub.status.idle": "2022-04-25T07:20:52.088348Z",
     "shell.execute_reply": "2022-04-25T07:20:52.088955Z",
     "shell.execute_reply.started": "2022-04-25T07:18:40.151538Z"
    },
    "id": "7x1mB0FgZ0dx",
    "papermill": {
     "duration": 0.127744,
     "end_time": "2022-04-25T07:20:52.089121",
     "exception": false,
     "start_time": "2022-04-25T07:20:51.961377",
     "status": "completed"
    },
    "tags": []
   },
   "outputs": [],
   "source": [
    "data = pd.get_dummies(data,columns=['Pclass','SibSp','Parch','Embarked'], drop_first=True)"
   ]
  },
  {
   "cell_type": "code",
   "execution_count": 40,
   "id": "7eca73f8",
   "metadata": {
    "execution": {
     "iopub.execute_input": "2022-04-25T07:20:52.319657Z",
     "iopub.status.busy": "2022-04-25T07:20:52.318688Z",
     "iopub.status.idle": "2022-04-25T07:20:52.338368Z",
     "shell.execute_reply": "2022-04-25T07:20:52.338978Z",
     "shell.execute_reply.started": "2022-04-25T07:18:40.406713Z"
    },
    "id": "HEa9JhrxZs27",
    "outputId": "a68c4c6b-de1a-4c81-c811-804a478cb882",
    "papermill": {
     "duration": 0.135361,
     "end_time": "2022-04-25T07:20:52.339136",
     "exception": false,
     "start_time": "2022-04-25T07:20:52.203775",
     "status": "completed"
    },
    "tags": []
   },
   "outputs": [
    {
     "data": {
      "text/html": [
       "<div>\n",
       "<style scoped>\n",
       "    .dataframe tbody tr th:only-of-type {\n",
       "        vertical-align: middle;\n",
       "    }\n",
       "\n",
       "    .dataframe tbody tr th {\n",
       "        vertical-align: top;\n",
       "    }\n",
       "\n",
       "    .dataframe thead th {\n",
       "        text-align: right;\n",
       "    }\n",
       "</style>\n",
       "<table border=\"1\" class=\"dataframe\">\n",
       "  <thead>\n",
       "    <tr style=\"text-align: right;\">\n",
       "      <th></th>\n",
       "      <th>Sex</th>\n",
       "      <th>Age</th>\n",
       "      <th>Fare</th>\n",
       "      <th>Pclass_2</th>\n",
       "      <th>Pclass_3</th>\n",
       "      <th>SibSp_1</th>\n",
       "      <th>SibSp_2</th>\n",
       "      <th>SibSp_3</th>\n",
       "      <th>SibSp_4</th>\n",
       "      <th>SibSp_5</th>\n",
       "      <th>SibSp_8</th>\n",
       "      <th>Parch_1</th>\n",
       "      <th>Parch_2</th>\n",
       "      <th>Parch_3</th>\n",
       "      <th>Parch_4</th>\n",
       "      <th>Parch_5</th>\n",
       "      <th>Parch_6</th>\n",
       "      <th>Parch_9</th>\n",
       "      <th>Embarked_2.0</th>\n",
       "      <th>Embarked_3.0</th>\n",
       "    </tr>\n",
       "  </thead>\n",
       "  <tbody>\n",
       "    <tr>\n",
       "      <th>0</th>\n",
       "      <td>0</td>\n",
       "      <td>22.000000</td>\n",
       "      <td>7.250000</td>\n",
       "      <td>0</td>\n",
       "      <td>1</td>\n",
       "      <td>1</td>\n",
       "      <td>0</td>\n",
       "      <td>0</td>\n",
       "      <td>0</td>\n",
       "      <td>0</td>\n",
       "      <td>0</td>\n",
       "      <td>0</td>\n",
       "      <td>0</td>\n",
       "      <td>0</td>\n",
       "      <td>0</td>\n",
       "      <td>0</td>\n",
       "      <td>0</td>\n",
       "      <td>0</td>\n",
       "      <td>1</td>\n",
       "      <td>0</td>\n",
       "    </tr>\n",
       "    <tr>\n",
       "      <th>1</th>\n",
       "      <td>1</td>\n",
       "      <td>38.000000</td>\n",
       "      <td>15.371628</td>\n",
       "      <td>0</td>\n",
       "      <td>0</td>\n",
       "      <td>1</td>\n",
       "      <td>0</td>\n",
       "      <td>0</td>\n",
       "      <td>0</td>\n",
       "      <td>0</td>\n",
       "      <td>0</td>\n",
       "      <td>0</td>\n",
       "      <td>0</td>\n",
       "      <td>0</td>\n",
       "      <td>0</td>\n",
       "      <td>0</td>\n",
       "      <td>0</td>\n",
       "      <td>0</td>\n",
       "      <td>0</td>\n",
       "      <td>0</td>\n",
       "    </tr>\n",
       "    <tr>\n",
       "      <th>2</th>\n",
       "      <td>1</td>\n",
       "      <td>26.000000</td>\n",
       "      <td>7.925000</td>\n",
       "      <td>0</td>\n",
       "      <td>1</td>\n",
       "      <td>0</td>\n",
       "      <td>0</td>\n",
       "      <td>0</td>\n",
       "      <td>0</td>\n",
       "      <td>0</td>\n",
       "      <td>0</td>\n",
       "      <td>0</td>\n",
       "      <td>0</td>\n",
       "      <td>0</td>\n",
       "      <td>0</td>\n",
       "      <td>0</td>\n",
       "      <td>0</td>\n",
       "      <td>0</td>\n",
       "      <td>1</td>\n",
       "      <td>0</td>\n",
       "    </tr>\n",
       "    <tr>\n",
       "      <th>3</th>\n",
       "      <td>1</td>\n",
       "      <td>35.000000</td>\n",
       "      <td>53.100000</td>\n",
       "      <td>0</td>\n",
       "      <td>0</td>\n",
       "      <td>1</td>\n",
       "      <td>0</td>\n",
       "      <td>0</td>\n",
       "      <td>0</td>\n",
       "      <td>0</td>\n",
       "      <td>0</td>\n",
       "      <td>0</td>\n",
       "      <td>0</td>\n",
       "      <td>0</td>\n",
       "      <td>0</td>\n",
       "      <td>0</td>\n",
       "      <td>0</td>\n",
       "      <td>0</td>\n",
       "      <td>1</td>\n",
       "      <td>0</td>\n",
       "    </tr>\n",
       "    <tr>\n",
       "      <th>4</th>\n",
       "      <td>0</td>\n",
       "      <td>35.000000</td>\n",
       "      <td>8.050000</td>\n",
       "      <td>0</td>\n",
       "      <td>1</td>\n",
       "      <td>0</td>\n",
       "      <td>0</td>\n",
       "      <td>0</td>\n",
       "      <td>0</td>\n",
       "      <td>0</td>\n",
       "      <td>0</td>\n",
       "      <td>0</td>\n",
       "      <td>0</td>\n",
       "      <td>0</td>\n",
       "      <td>0</td>\n",
       "      <td>0</td>\n",
       "      <td>0</td>\n",
       "      <td>0</td>\n",
       "      <td>1</td>\n",
       "      <td>0</td>\n",
       "    </tr>\n",
       "    <tr>\n",
       "      <th>...</th>\n",
       "      <td>...</td>\n",
       "      <td>...</td>\n",
       "      <td>...</td>\n",
       "      <td>...</td>\n",
       "      <td>...</td>\n",
       "      <td>...</td>\n",
       "      <td>...</td>\n",
       "      <td>...</td>\n",
       "      <td>...</td>\n",
       "      <td>...</td>\n",
       "      <td>...</td>\n",
       "      <td>...</td>\n",
       "      <td>...</td>\n",
       "      <td>...</td>\n",
       "      <td>...</td>\n",
       "      <td>...</td>\n",
       "      <td>...</td>\n",
       "      <td>...</td>\n",
       "      <td>...</td>\n",
       "      <td>...</td>\n",
       "    </tr>\n",
       "    <tr>\n",
       "      <th>413</th>\n",
       "      <td>0</td>\n",
       "      <td>30.021601</td>\n",
       "      <td>8.050000</td>\n",
       "      <td>0</td>\n",
       "      <td>1</td>\n",
       "      <td>0</td>\n",
       "      <td>0</td>\n",
       "      <td>0</td>\n",
       "      <td>0</td>\n",
       "      <td>0</td>\n",
       "      <td>0</td>\n",
       "      <td>0</td>\n",
       "      <td>0</td>\n",
       "      <td>0</td>\n",
       "      <td>0</td>\n",
       "      <td>0</td>\n",
       "      <td>0</td>\n",
       "      <td>0</td>\n",
       "      <td>1</td>\n",
       "      <td>0</td>\n",
       "    </tr>\n",
       "    <tr>\n",
       "      <th>414</th>\n",
       "      <td>1</td>\n",
       "      <td>39.000000</td>\n",
       "      <td>15.721243</td>\n",
       "      <td>0</td>\n",
       "      <td>0</td>\n",
       "      <td>0</td>\n",
       "      <td>0</td>\n",
       "      <td>0</td>\n",
       "      <td>0</td>\n",
       "      <td>0</td>\n",
       "      <td>0</td>\n",
       "      <td>0</td>\n",
       "      <td>0</td>\n",
       "      <td>0</td>\n",
       "      <td>0</td>\n",
       "      <td>0</td>\n",
       "      <td>0</td>\n",
       "      <td>0</td>\n",
       "      <td>0</td>\n",
       "      <td>0</td>\n",
       "    </tr>\n",
       "    <tr>\n",
       "      <th>415</th>\n",
       "      <td>0</td>\n",
       "      <td>38.500000</td>\n",
       "      <td>7.250000</td>\n",
       "      <td>0</td>\n",
       "      <td>1</td>\n",
       "      <td>0</td>\n",
       "      <td>0</td>\n",
       "      <td>0</td>\n",
       "      <td>0</td>\n",
       "      <td>0</td>\n",
       "      <td>0</td>\n",
       "      <td>0</td>\n",
       "      <td>0</td>\n",
       "      <td>0</td>\n",
       "      <td>0</td>\n",
       "      <td>0</td>\n",
       "      <td>0</td>\n",
       "      <td>0</td>\n",
       "      <td>1</td>\n",
       "      <td>0</td>\n",
       "    </tr>\n",
       "    <tr>\n",
       "      <th>416</th>\n",
       "      <td>0</td>\n",
       "      <td>30.021601</td>\n",
       "      <td>8.050000</td>\n",
       "      <td>0</td>\n",
       "      <td>1</td>\n",
       "      <td>0</td>\n",
       "      <td>0</td>\n",
       "      <td>0</td>\n",
       "      <td>0</td>\n",
       "      <td>0</td>\n",
       "      <td>0</td>\n",
       "      <td>0</td>\n",
       "      <td>0</td>\n",
       "      <td>0</td>\n",
       "      <td>0</td>\n",
       "      <td>0</td>\n",
       "      <td>0</td>\n",
       "      <td>0</td>\n",
       "      <td>1</td>\n",
       "      <td>0</td>\n",
       "    </tr>\n",
       "    <tr>\n",
       "      <th>417</th>\n",
       "      <td>0</td>\n",
       "      <td>30.021601</td>\n",
       "      <td>22.358300</td>\n",
       "      <td>0</td>\n",
       "      <td>1</td>\n",
       "      <td>1</td>\n",
       "      <td>0</td>\n",
       "      <td>0</td>\n",
       "      <td>0</td>\n",
       "      <td>0</td>\n",
       "      <td>0</td>\n",
       "      <td>1</td>\n",
       "      <td>0</td>\n",
       "      <td>0</td>\n",
       "      <td>0</td>\n",
       "      <td>0</td>\n",
       "      <td>0</td>\n",
       "      <td>0</td>\n",
       "      <td>0</td>\n",
       "      <td>0</td>\n",
       "    </tr>\n",
       "  </tbody>\n",
       "</table>\n",
       "<p>1309 rows × 20 columns</p>\n",
       "</div>"
      ],
      "text/plain": [
       "     Sex        Age       Fare  Pclass_2  Pclass_3  SibSp_1  SibSp_2  SibSp_3  \\\n",
       "0      0  22.000000   7.250000         0         1        1        0        0   \n",
       "1      1  38.000000  15.371628         0         0        1        0        0   \n",
       "2      1  26.000000   7.925000         0         1        0        0        0   \n",
       "3      1  35.000000  53.100000         0         0        1        0        0   \n",
       "4      0  35.000000   8.050000         0         1        0        0        0   \n",
       "..   ...        ...        ...       ...       ...      ...      ...      ...   \n",
       "413    0  30.021601   8.050000         0         1        0        0        0   \n",
       "414    1  39.000000  15.721243         0         0        0        0        0   \n",
       "415    0  38.500000   7.250000         0         1        0        0        0   \n",
       "416    0  30.021601   8.050000         0         1        0        0        0   \n",
       "417    0  30.021601  22.358300         0         1        1        0        0   \n",
       "\n",
       "     SibSp_4  SibSp_5  SibSp_8  Parch_1  Parch_2  Parch_3  Parch_4  Parch_5  \\\n",
       "0          0        0        0        0        0        0        0        0   \n",
       "1          0        0        0        0        0        0        0        0   \n",
       "2          0        0        0        0        0        0        0        0   \n",
       "3          0        0        0        0        0        0        0        0   \n",
       "4          0        0        0        0        0        0        0        0   \n",
       "..       ...      ...      ...      ...      ...      ...      ...      ...   \n",
       "413        0        0        0        0        0        0        0        0   \n",
       "414        0        0        0        0        0        0        0        0   \n",
       "415        0        0        0        0        0        0        0        0   \n",
       "416        0        0        0        0        0        0        0        0   \n",
       "417        0        0        0        1        0        0        0        0   \n",
       "\n",
       "     Parch_6  Parch_9  Embarked_2.0  Embarked_3.0  \n",
       "0          0        0             1             0  \n",
       "1          0        0             0             0  \n",
       "2          0        0             1             0  \n",
       "3          0        0             1             0  \n",
       "4          0        0             1             0  \n",
       "..       ...      ...           ...           ...  \n",
       "413        0        0             1             0  \n",
       "414        0        0             0             0  \n",
       "415        0        0             1             0  \n",
       "416        0        0             1             0  \n",
       "417        0        0             0             0  \n",
       "\n",
       "[1309 rows x 20 columns]"
      ]
     },
     "execution_count": 40,
     "metadata": {},
     "output_type": "execute_result"
    }
   ],
   "source": [
    "data"
   ]
  },
  {
   "cell_type": "code",
   "execution_count": 41,
   "id": "88338b57",
   "metadata": {
    "execution": {
     "iopub.execute_input": "2022-04-25T07:20:52.572200Z",
     "iopub.status.busy": "2022-04-25T07:20:52.571327Z",
     "iopub.status.idle": "2022-04-25T07:20:52.575216Z",
     "shell.execute_reply": "2022-04-25T07:20:52.575770Z",
     "shell.execute_reply.started": "2022-04-25T07:18:41.218406Z"
    },
    "id": "pNuyU3EOaG2e",
    "papermill": {
     "duration": 0.121284,
     "end_time": "2022-04-25T07:20:52.575938",
     "exception": false,
     "start_time": "2022-04-25T07:20:52.454654",
     "status": "completed"
    },
    "tags": []
   },
   "outputs": [],
   "source": [
    "X_train_set = data.iloc[:891]\n",
    "test_set = data.iloc[891:]"
   ]
  },
  {
   "cell_type": "code",
   "execution_count": 42,
   "id": "4bc28da9",
   "metadata": {
    "execution": {
     "iopub.execute_input": "2022-04-25T07:20:52.807437Z",
     "iopub.status.busy": "2022-04-25T07:20:52.806805Z",
     "iopub.status.idle": "2022-04-25T07:20:52.813247Z",
     "shell.execute_reply": "2022-04-25T07:20:52.812747Z",
     "shell.execute_reply.started": "2022-04-25T07:18:41.223782Z"
    },
    "id": "rm-KEDK9qdAV",
    "papermill": {
     "duration": 0.123012,
     "end_time": "2022-04-25T07:20:52.813386",
     "exception": false,
     "start_time": "2022-04-25T07:20:52.690374",
     "status": "completed"
    },
    "tags": []
   },
   "outputs": [],
   "source": [
    "X_train = np.asarray(X_train_set)\n",
    "y_train = np.asarray(Y_train_set)\n",
    "X_test = np.asarray(test_set)\n",
    "y_test = np.asarray(submission['Survived'])"
   ]
  },
  {
   "cell_type": "code",
   "execution_count": 43,
   "id": "4a034e1f",
   "metadata": {
    "execution": {
     "iopub.execute_input": "2022-04-25T07:20:53.045910Z",
     "iopub.status.busy": "2022-04-25T07:20:53.045266Z",
     "iopub.status.idle": "2022-04-25T07:20:53.049918Z",
     "shell.execute_reply": "2022-04-25T07:20:53.050405Z",
     "shell.execute_reply.started": "2022-04-25T07:18:41.238610Z"
    },
    "id": "BW9M9PjOqdAV",
    "papermill": {
     "duration": 0.120534,
     "end_time": "2022-04-25T07:20:53.050576",
     "exception": false,
     "start_time": "2022-04-25T07:20:52.930042",
     "status": "completed"
    },
    "tags": []
   },
   "outputs": [],
   "source": [
    "scaler = StandardScaler()\n",
    "X_train_scaler = scaler.fit_transform(X_train)\n",
    "X_test_scaler = scaler.transform(X_test)"
   ]
  },
  {
   "cell_type": "markdown",
   "id": "50b97718",
   "metadata": {
    "id": "jJApEcLN3PuH",
    "papermill": {
     "duration": 0.114017,
     "end_time": "2022-04-25T07:20:53.278264",
     "exception": false,
     "start_time": "2022-04-25T07:20:53.164247",
     "status": "completed"
    },
    "tags": []
   },
   "source": [
    "K Nearest Neighbors model"
   ]
  },
  {
   "cell_type": "code",
   "execution_count": 44,
   "id": "b03fa4d7",
   "metadata": {
    "execution": {
     "iopub.execute_input": "2022-04-25T07:20:53.505281Z",
     "iopub.status.busy": "2022-04-25T07:20:53.504680Z",
     "iopub.status.idle": "2022-04-25T07:20:53.559907Z",
     "shell.execute_reply": "2022-04-25T07:20:53.560714Z",
     "shell.execute_reply.started": "2022-04-25T07:18:41.444550Z"
    },
    "id": "Alg4WgssrLwj",
    "outputId": "dc6d9129-0963-4531-d845-7c91cfcb7118",
    "papermill": {
     "duration": 0.170551,
     "end_time": "2022-04-25T07:20:53.560964",
     "exception": false,
     "start_time": "2022-04-25T07:20:53.390413",
     "status": "completed"
    },
    "tags": []
   },
   "outputs": [
    {
     "data": {
      "text/plain": [
       "0.8277511961722488"
      ]
     },
     "execution_count": 44,
     "metadata": {},
     "output_type": "execute_result"
    }
   ],
   "source": [
    "KNN = KNeighborsClassifier().fit(X_train_scaler,y_train)\n",
    "y_pred = KNN.predict(X_test_scaler)\n",
    "accuracy_score(y_test,y_pred)"
   ]
  },
  {
   "cell_type": "code",
   "execution_count": 45,
   "id": "d4394f33",
   "metadata": {
    "execution": {
     "iopub.execute_input": "2022-04-25T07:20:53.835186Z",
     "iopub.status.busy": "2022-04-25T07:20:53.834541Z",
     "iopub.status.idle": "2022-04-25T07:20:55.472439Z",
     "shell.execute_reply": "2022-04-25T07:20:55.474532Z",
     "shell.execute_reply.started": "2022-04-25T07:18:41.646834Z"
    },
    "id": "7wuz3w0G2w5I",
    "outputId": "bf8c88a5-6910-4578-a020-eaca38c97993",
    "papermill": {
     "duration": 1.764587,
     "end_time": "2022-04-25T07:20:55.474728",
     "exception": false,
     "start_time": "2022-04-25T07:20:53.710141",
     "status": "completed"
    },
    "tags": []
   },
   "outputs": [
    {
     "name": "stderr",
     "output_type": "stream",
     "text": [
      "/opt/conda/lib/python3.7/site-packages/sklearn/model_selection/_validation.py:372: FitFailedWarning: \n",
      "5 fits failed out of a total of 100.\n",
      "The score on these train-test partitions for these parameters will be set to nan.\n",
      "If these failures are not expected, you can try to debug them by setting error_score='raise'.\n",
      "\n",
      "Below are more details about the failures:\n",
      "--------------------------------------------------------------------------------\n",
      "5 fits failed with the following error:\n",
      "Traceback (most recent call last):\n",
      "  File \"/opt/conda/lib/python3.7/site-packages/sklearn/model_selection/_validation.py\", line 681, in _fit_and_score\n",
      "    estimator.fit(X_train, y_train, **fit_params)\n",
      "  File \"/opt/conda/lib/python3.7/site-packages/sklearn/neighbors/_classification.py\", line 198, in fit\n",
      "    return self._fit(X, y)\n",
      "  File \"/opt/conda/lib/python3.7/site-packages/sklearn/neighbors/_base.py\", line 566, in _fit\n",
      "    raise ValueError(\"Expected n_neighbors > 0. Got %d\" % self.n_neighbors)\n",
      "ValueError: Expected n_neighbors > 0. Got 0\n",
      "\n",
      "  warnings.warn(some_fits_failed_message, FitFailedWarning)\n",
      "/opt/conda/lib/python3.7/site-packages/sklearn/model_selection/_search.py:972: UserWarning: One or more of the test scores are non-finite: [       nan 0.72508317 0.75874082 0.77893415 0.78115624 0.79465194\n",
      " 0.77668696 0.7676982  0.76096918 0.76659343 0.77781684 0.77448371\n",
      " 0.78005775 0.77446488 0.77668069 0.78007658 0.77443977 0.7789216\n",
      " 0.78004519 0.77894043]\n",
      "  category=UserWarning,\n"
     ]
    },
    {
     "data": {
      "text/plain": [
       "KNeighborsClassifier()"
      ]
     },
     "execution_count": 45,
     "metadata": {},
     "output_type": "execute_result"
    }
   ],
   "source": [
    "param_grid = {'n_neighbors':[x for x in range(20)]}\n",
    "\n",
    "GV_KNN = GridSearchCV(KNeighborsClassifier(),\n",
    "                      param_grid=param_grid, \n",
    "                      scoring='accuracy',\n",
    "                      n_jobs=-1)\n",
    "\n",
    "GV_KNN.fit(X_train_scaler,y_train)\n",
    "GV_KNN.best_estimator_"
   ]
  },
  {
   "cell_type": "code",
   "execution_count": 46,
   "id": "d45cb392",
   "metadata": {
    "execution": {
     "iopub.execute_input": "2022-04-25T07:20:55.716410Z",
     "iopub.status.busy": "2022-04-25T07:20:55.715216Z",
     "iopub.status.idle": "2022-04-25T07:20:55.772653Z",
     "shell.execute_reply": "2022-04-25T07:20:55.773805Z",
     "shell.execute_reply.started": "2022-04-25T07:18:43.096883Z"
    },
    "id": "5TtOSOQx2w8A",
    "outputId": "8f2ed937-baf0-4e8d-a835-f057f6b01397",
    "papermill": {
     "duration": 0.179856,
     "end_time": "2022-04-25T07:20:55.774110",
     "exception": false,
     "start_time": "2022-04-25T07:20:55.594254",
     "status": "completed"
    },
    "tags": []
   },
   "outputs": [
    {
     "name": "stdout",
     "output_type": "stream",
     "text": [
      "              precision    recall  f1-score   support\n",
      "\n",
      "           0       0.85      0.88      0.86       258\n",
      "           1       0.79      0.75      0.77       160\n",
      "\n",
      "    accuracy                           0.83       418\n",
      "   macro avg       0.82      0.81      0.82       418\n",
      "weighted avg       0.83      0.83      0.83       418\n",
      "\n"
     ]
    }
   ],
   "source": [
    "y_pred = GV_KNN.predict(X_test_scaler)\n",
    "print(classification_report(y_pred, y_test))"
   ]
  },
  {
   "cell_type": "code",
   "execution_count": 47,
   "id": "988958c4",
   "metadata": {
    "execution": {
     "iopub.execute_input": "2022-04-25T07:20:56.054355Z",
     "iopub.status.busy": "2022-04-25T07:20:56.053747Z",
     "iopub.status.idle": "2022-04-25T07:20:56.059006Z",
     "shell.execute_reply": "2022-04-25T07:20:56.058482Z",
     "shell.execute_reply.started": "2022-04-25T07:18:43.148222Z"
    },
    "id": "bT65RjtR8-1G",
    "outputId": "81fa8204-41a0-4d94-fed3-ceb1e2275ed9",
    "papermill": {
     "duration": 0.130928,
     "end_time": "2022-04-25T07:20:56.059145",
     "exception": false,
     "start_time": "2022-04-25T07:20:55.928217",
     "status": "completed"
    },
    "tags": []
   },
   "outputs": [
    {
     "data": {
      "text/plain": [
       "0.8195488721804511"
      ]
     },
     "execution_count": 47,
     "metadata": {},
     "output_type": "execute_result"
    }
   ],
   "source": [
    "roc_auc_score(y_test,y_pred)"
   ]
  },
  {
   "cell_type": "code",
   "execution_count": 48,
   "id": "3b6923f6",
   "metadata": {
    "execution": {
     "iopub.execute_input": "2022-04-25T07:20:56.293295Z",
     "iopub.status.busy": "2022-04-25T07:20:56.292685Z",
     "iopub.status.idle": "2022-04-25T07:20:56.513180Z",
     "shell.execute_reply": "2022-04-25T07:20:56.512636Z",
     "shell.execute_reply.started": "2022-04-25T07:18:43.166211Z"
    },
    "id": "weAk8_ut2w-w",
    "outputId": "1a806687-476d-4825-b125-25e45e3f660c",
    "papermill": {
     "duration": 0.339188,
     "end_time": "2022-04-25T07:20:56.513309",
     "exception": false,
     "start_time": "2022-04-25T07:20:56.174121",
     "status": "completed"
    },
    "tags": []
   },
   "outputs": [
    {
     "data": {
      "image/png": "[encoded data removed]",
      "text/plain": [
       "<Figure size 432x288 with 2 Axes>"
      ]
     },
     "metadata": {},
     "output_type": "display_data"
    }
   ],
   "source": [
    "sns.set_context('talk')\n",
    "cm = confusion_matrix(y_test, y_pred)\n",
    "ax = sns.heatmap(cm, annot=True, fmt='d')"
   ]
  },
  {
   "cell_type": "markdown",
   "id": "d023487d",
   "metadata": {
    "id": "KFiO_9B04CuO",
    "papermill": {
     "duration": 0.117034,
     "end_time": "2022-04-25T07:20:56.748295",
     "exception": false,
     "start_time": "2022-04-25T07:20:56.631261",
     "status": "completed"
    },
    "tags": []
   },
   "source": [
    "Decision Tree model"
   ]
  },
  {
   "cell_type": "code",
   "execution_count": 49,
   "id": "ad8eb8f3",
   "metadata": {
    "execution": {
     "iopub.execute_input": "2022-04-25T07:20:56.989694Z",
     "iopub.status.busy": "2022-04-25T07:20:56.988981Z",
     "iopub.status.idle": "2022-04-25T07:20:56.997522Z",
     "shell.execute_reply": "2022-04-25T07:20:56.998104Z",
     "shell.execute_reply.started": "2022-04-25T07:18:43.420649Z"
    },
    "id": "R0ikwMW22xBY",
    "outputId": "2a83fbf5-a939-4acd-d130-c9cd0240d982",
    "papermill": {
     "duration": 0.132355,
     "end_time": "2022-04-25T07:20:56.998262",
     "exception": false,
     "start_time": "2022-04-25T07:20:56.865907",
     "status": "completed"
    },
    "tags": []
   },
   "outputs": [
    {
     "data": {
      "text/plain": [
       "0.777511961722488"
      ]
     },
     "execution_count": 49,
     "metadata": {},
     "output_type": "execute_result"
    }
   ],
   "source": [
    "DTC = DecisionTreeClassifier().fit(X_train_scaler,y_train)\n",
    "y_pred = DTC.predict(X_test_scaler)\n",
    "accuracy_score(y_test,y_pred)"
   ]
  },
  {
   "cell_type": "code",
   "execution_count": 50,
   "id": "b4b2f65c",
   "metadata": {
    "execution": {
     "iopub.execute_input": "2022-04-25T07:20:57.237140Z",
     "iopub.status.busy": "2022-04-25T07:20:57.236479Z",
     "iopub.status.idle": "2022-04-25T07:21:14.275797Z",
     "shell.execute_reply": "2022-04-25T07:21:14.276276Z",
     "shell.execute_reply.started": "2022-04-25T07:18:43.433420Z"
    },
    "id": "LuXp09ys2xEH",
    "outputId": "4146d35e-f6c1-4c3d-e32d-d4be762349d9",
    "papermill": {
     "duration": 17.16006,
     "end_time": "2022-04-25T07:21:14.276436",
     "exception": false,
     "start_time": "2022-04-25T07:20:57.116376",
     "status": "completed"
    },
    "tags": []
   },
   "outputs": [
    {
     "name": "stderr",
     "output_type": "stream",
     "text": [
      "/opt/conda/lib/python3.7/site-packages/sklearn/model_selection/_validation.py:372: FitFailedWarning: \n",
      "1950 fits failed out of a total of 20000.\n",
      "The score on these train-test partitions for these parameters will be set to nan.\n",
      "If these failures are not expected, you can try to debug them by setting error_score='raise'.\n",
      "\n",
      "Below are more details about the failures:\n",
      "--------------------------------------------------------------------------------\n",
      "1000 fits failed with the following error:\n",
      "Traceback (most recent call last):\n",
      "  File \"/opt/conda/lib/python3.7/site-packages/sklearn/model_selection/_validation.py\", line 681, in _fit_and_score\n",
      "    estimator.fit(X_train, y_train, **fit_params)\n",
      "  File \"/opt/conda/lib/python3.7/site-packages/sklearn/tree/_classes.py\", line 942, in fit\n",
      "    X_idx_sorted=X_idx_sorted,\n",
      "  File \"/opt/conda/lib/python3.7/site-packages/sklearn/tree/_classes.py\", line 306, in fit\n",
      "    raise ValueError(\"max_depth must be greater than zero. \")\n",
      "ValueError: max_depth must be greater than zero. \n",
      "\n",
      "--------------------------------------------------------------------------------\n",
      "950 fits failed with the following error:\n",
      "Traceback (most recent call last):\n",
      "  File \"/opt/conda/lib/python3.7/site-packages/sklearn/model_selection/_validation.py\", line 681, in _fit_and_score\n",
      "    estimator.fit(X_train, y_train, **fit_params)\n",
      "  File \"/opt/conda/lib/python3.7/site-packages/sklearn/tree/_classes.py\", line 942, in fit\n",
      "    X_idx_sorted=X_idx_sorted,\n",
      "  File \"/opt/conda/lib/python3.7/site-packages/sklearn/tree/_classes.py\", line 308, in fit\n",
      "    raise ValueError(\"max_features must be in (0, n_features]\")\n",
      "ValueError: max_features must be in (0, n_features]\n",
      "\n",
      "  warnings.warn(some_fits_failed_message, FitFailedWarning)\n",
      "/opt/conda/lib/python3.7/site-packages/sklearn/model_selection/_search.py:972: UserWarning: One or more of the test scores are non-finite: [       nan        nan        nan ... 0.80473291 0.80585651 0.80245433]\n",
      "  category=UserWarning,\n"
     ]
    },
    {
     "data": {
      "text/plain": [
       "DecisionTreeClassifier(max_depth=12, max_features=13, min_samples_split=12)"
      ]
     },
     "execution_count": 50,
     "metadata": {},
     "output_type": "execute_result"
    }
   ],
   "source": [
    "param_grid = {'max_depth':[x for x in range(20)],\n",
    "              'min_samples_split':[x for x in range(2,100,10)],\n",
    "              'max_features':[x for x in range(20)]}\n",
    "\n",
    "GV_DT = GridSearchCV(DecisionTreeClassifier(),\n",
    "                   param_grid=param_grid, \n",
    "                   scoring='accuracy',\n",
    "                   n_jobs=-1)\n",
    "\n",
    "GV_DT.fit(X_train_scaler,y_train)\n",
    "GV_DT.best_estimator_              "
   ]
  },
  {
   "cell_type": "code",
   "execution_count": 51,
   "id": "70db044b",
   "metadata": {
    "execution": {
     "iopub.execute_input": "2022-04-25T07:21:14.519070Z",
     "iopub.status.busy": "2022-04-25T07:21:14.518423Z",
     "iopub.status.idle": "2022-04-25T07:21:14.526609Z",
     "shell.execute_reply": "2022-04-25T07:21:14.527105Z",
     "shell.execute_reply.started": "2022-04-25T07:18:59.360593Z"
    },
    "id": "4HhSTe7X2xLf",
    "outputId": "744996e9-e7a2-4c67-b3ae-3adfc057d369",
    "papermill": {
     "duration": 0.129778,
     "end_time": "2022-04-25T07:21:14.527250",
     "exception": false,
     "start_time": "2022-04-25T07:21:14.397472",
     "status": "completed"
    },
    "tags": []
   },
   "outputs": [
    {
     "name": "stdout",
     "output_type": "stream",
     "text": [
      "              precision    recall  f1-score   support\n",
      "\n",
      "           0       0.93      0.87      0.90       285\n",
      "           1       0.75      0.86      0.80       133\n",
      "\n",
      "    accuracy                           0.86       418\n",
      "   macro avg       0.84      0.86      0.85       418\n",
      "weighted avg       0.87      0.86      0.87       418\n",
      "\n"
     ]
    }
   ],
   "source": [
    "y_pred = GV_DT.predict(X_test_scaler)\n",
    "print(classification_report(y_pred,y_test))"
   ]
  },
  {
   "cell_type": "code",
   "execution_count": 52,
   "id": "31334e54",
   "metadata": {
    "execution": {
     "iopub.execute_input": "2022-04-25T07:21:14.768874Z",
     "iopub.status.busy": "2022-04-25T07:21:14.768186Z",
     "iopub.status.idle": "2022-04-25T07:21:14.774643Z",
     "shell.execute_reply": "2022-04-25T07:21:14.773990Z",
     "shell.execute_reply.started": "2022-04-25T07:18:59.371582Z"
    },
    "id": "Gwheqhp59cPW",
    "outputId": "0172d36e-f33a-4d37-a699-9d5822f27352",
    "papermill": {
     "duration": 0.128919,
     "end_time": "2022-04-25T07:21:14.774777",
     "exception": false,
     "start_time": "2022-04-25T07:21:14.645858",
     "status": "completed"
    },
    "tags": []
   },
   "outputs": [
    {
     "data": {
      "text/plain": [
       "0.8392857142857143"
      ]
     },
     "execution_count": 52,
     "metadata": {},
     "output_type": "execute_result"
    }
   ],
   "source": [
    "roc_auc_score(y_test,y_pred)"
   ]
  },
  {
   "cell_type": "code",
   "execution_count": 53,
   "id": "ac05bccf",
   "metadata": {
    "execution": {
     "iopub.execute_input": "2022-04-25T07:21:15.017645Z",
     "iopub.status.busy": "2022-04-25T07:21:15.017099Z",
     "iopub.status.idle": "2022-04-25T07:21:15.225274Z",
     "shell.execute_reply": "2022-04-25T07:21:15.224662Z",
     "shell.execute_reply.started": "2022-04-25T07:18:59.383946Z"
    },
    "id": "9C6EAM982xOG",
    "outputId": "b7d872db-eec8-4bed-8ed2-0a4f4c17c8f7",
    "papermill": {
     "duration": 0.330388,
     "end_time": "2022-04-25T07:21:15.225405",
     "exception": false,
     "start_time": "2022-04-25T07:21:14.895017",
     "status": "completed"
    },
    "tags": []
   },
   "outputs": [
    {
     "data": {
      "image/png": "[encoded data removed]",
      "text/plain": [
       "<Figure size 432x288 with 2 Axes>"
      ]
     },
     "metadata": {},
     "output_type": "display_data"
    }
   ],
   "source": [
    "sns.set_context('talk')\n",
    "cm = confusion_matrix(y_test, y_pred)\n",
    "ax = sns.heatmap(cm, annot=True, fmt='d')"
   ]
  },
  {
   "cell_type": "markdown",
   "id": "05f15371",
   "metadata": {
    "id": "mwepw8XQ4QpP",
    "papermill": {
     "duration": 0.119135,
     "end_time": "2022-04-25T07:21:15.464386",
     "exception": false,
     "start_time": "2022-04-25T07:21:15.345251",
     "status": "completed"
    },
    "tags": []
   },
   "source": [
    "Logistic Regression model"
   ]
  },
  {
   "cell_type": "code",
   "execution_count": 54,
   "id": "330185f8",
   "metadata": {
    "execution": {
     "iopub.execute_input": "2022-04-25T07:21:15.709798Z",
     "iopub.status.busy": "2022-04-25T07:21:15.709121Z",
     "iopub.status.idle": "2022-04-25T07:21:15.732764Z",
     "shell.execute_reply": "2022-04-25T07:21:15.733523Z",
     "shell.execute_reply.started": "2022-04-25T07:18:59.605154Z"
    },
    "id": "yFRXEZZ94P3P",
    "outputId": "2d1e3bc0-3853-4fda-ecb1-31b93f7a5b5f",
    "papermill": {
     "duration": 0.149989,
     "end_time": "2022-04-25T07:21:15.733759",
     "exception": false,
     "start_time": "2022-04-25T07:21:15.583770",
     "status": "completed"
    },
    "tags": []
   },
   "outputs": [
    {
     "data": {
      "text/plain": [
       "0.9521531100478469"
      ]
     },
     "execution_count": 54,
     "metadata": {},
     "output_type": "execute_result"
    }
   ],
   "source": [
    "LR = LogisticRegression().fit(X_train_scaler,y_train)\n",
    "y_pred = LR.predict(X_test_scaler)\n",
    "accuracy_score(y_test,y_pred)"
   ]
  },
  {
   "cell_type": "code",
   "execution_count": 55,
   "id": "acd5dab2",
   "metadata": {
    "execution": {
     "iopub.execute_input": "2022-04-25T07:21:16.035045Z",
     "iopub.status.busy": "2022-04-25T07:21:16.034376Z",
     "iopub.status.idle": "2022-04-25T07:21:16.384058Z",
     "shell.execute_reply": "2022-04-25T07:21:16.384906Z",
     "shell.execute_reply.started": "2022-04-25T07:18:59.636914Z"
    },
    "id": "DjWDtTpl2xQy",
    "outputId": "50c3237a-dfd5-4362-8646-bcaf983eea19",
    "papermill": {
     "duration": 0.478854,
     "end_time": "2022-04-25T07:21:16.385171",
     "exception": false,
     "start_time": "2022-04-25T07:21:15.906317",
     "status": "completed"
    },
    "tags": []
   },
   "outputs": [
    {
     "name": "stderr",
     "output_type": "stream",
     "text": [
      "/opt/conda/lib/python3.7/site-packages/sklearn/model_selection/_validation.py:372: FitFailedWarning: \n",
      "60 fits failed out of a total of 90.\n",
      "The score on these train-test partitions for these parameters will be set to nan.\n",
      "If these failures are not expected, you can try to debug them by setting error_score='raise'.\n",
      "\n",
      "Below are more details about the failures:\n",
      "--------------------------------------------------------------------------------\n",
      "30 fits failed with the following error:\n",
      "Traceback (most recent call last):\n",
      "  File \"/opt/conda/lib/python3.7/site-packages/sklearn/model_selection/_validation.py\", line 681, in _fit_and_score\n",
      "    estimator.fit(X_train, y_train, **fit_params)\n",
      "  File \"/opt/conda/lib/python3.7/site-packages/sklearn/linear_model/_logistic.py\", line 1461, in fit\n",
      "    solver = _check_solver(self.solver, self.penalty, self.dual)\n",
      "  File \"/opt/conda/lib/python3.7/site-packages/sklearn/linear_model/_logistic.py\", line 449, in _check_solver\n",
      "    % (solver, penalty)\n",
      "ValueError: Solver lbfgs supports only 'l2' or 'none' penalties, got l1 penalty.\n",
      "\n",
      "--------------------------------------------------------------------------------\n",
      "30 fits failed with the following error:\n",
      "Traceback (most recent call last):\n",
      "  File \"/opt/conda/lib/python3.7/site-packages/sklearn/model_selection/_validation.py\", line 681, in _fit_and_score\n",
      "    estimator.fit(X_train, y_train, **fit_params)\n",
      "  File \"/opt/conda/lib/python3.7/site-packages/sklearn/linear_model/_logistic.py\", line 1461, in fit\n",
      "    solver = _check_solver(self.solver, self.penalty, self.dual)\n",
      "  File \"/opt/conda/lib/python3.7/site-packages/sklearn/linear_model/_logistic.py\", line 449, in _check_solver\n",
      "    % (solver, penalty)\n",
      "ValueError: Solver lbfgs supports only 'l2' or 'none' penalties, got elasticnet penalty.\n",
      "\n",
      "  warnings.warn(some_fits_failed_message, FitFailedWarning)\n",
      "/opt/conda/lib/python3.7/site-packages/sklearn/model_selection/_search.py:972: UserWarning: One or more of the test scores are non-finite: [      nan 0.7957567       nan       nan 0.7957567       nan       nan\n",
      " 0.7957567       nan       nan 0.7957567       nan       nan 0.7957567\n",
      "       nan       nan 0.7957567       nan]\n",
      "  category=UserWarning,\n"
     ]
    },
    {
     "data": {
      "text/plain": [
       "LogisticRegression(max_iter=20)"
      ]
     },
     "execution_count": 55,
     "metadata": {},
     "output_type": "execute_result"
    }
   ],
   "source": [
    "param_grid = {'penalty':['l1', 'l2', 'elasticnet'],\n",
    "              'max_iter':[20,50,100,150,170,200]}\n",
    "GV_LR = GridSearchCV(LogisticRegression(),\n",
    "                     param_grid=param_grid,\n",
    "                     scoring='accuracy',\n",
    "                     n_jobs=-1)\n",
    "GV_LR.fit(X_train_scaler,y_train)\n",
    "GV_LR.best_estimator_"
   ]
  },
  {
   "cell_type": "code",
   "execution_count": 56,
   "id": "607c2dab",
   "metadata": {
    "execution": {
     "iopub.execute_input": "2022-04-25T07:21:16.687323Z",
     "iopub.status.busy": "2022-04-25T07:21:16.686700Z",
     "iopub.status.idle": "2022-04-25T07:21:16.695563Z",
     "shell.execute_reply": "2022-04-25T07:21:16.696067Z",
     "shell.execute_reply.started": "2022-04-25T07:18:59.923281Z"
    },
    "id": "1hruxVFW2xS6",
    "outputId": "0e1f347a-ab88-4d3a-b73d-ce4e067b5a39",
    "papermill": {
     "duration": 0.137251,
     "end_time": "2022-04-25T07:21:16.696219",
     "exception": false,
     "start_time": "2022-04-25T07:21:16.558968",
     "status": "completed"
    },
    "tags": []
   },
   "outputs": [
    {
     "name": "stdout",
     "output_type": "stream",
     "text": [
      "              precision    recall  f1-score   support\n",
      "\n",
      "           0       0.95      0.97      0.96       260\n",
      "           1       0.95      0.92      0.94       158\n",
      "\n",
      "    accuracy                           0.95       418\n",
      "   macro avg       0.95      0.95      0.95       418\n",
      "weighted avg       0.95      0.95      0.95       418\n",
      "\n"
     ]
    }
   ],
   "source": [
    "y_pred = LR.predict(X_test_scaler)\n",
    "print(classification_report(y_pred,y_test))"
   ]
  },
  {
   "cell_type": "code",
   "execution_count": 57,
   "id": "4618712c",
   "metadata": {
    "execution": {
     "iopub.execute_input": "2022-04-25T07:21:16.947187Z",
     "iopub.status.busy": "2022-04-25T07:21:16.946532Z",
     "iopub.status.idle": "2022-04-25T07:21:16.953004Z",
     "shell.execute_reply": "2022-04-25T07:21:16.952454Z",
     "shell.execute_reply.started": "2022-04-25T07:18:59.954365Z"
    },
    "id": "i4weukC-9kwj",
    "outputId": "6e4b863a-109d-4016-ad76-baf3cbe8cd73",
    "papermill": {
     "duration": 0.134152,
     "end_time": "2022-04-25T07:21:16.953129",
     "exception": false,
     "start_time": "2022-04-25T07:21:16.818977",
     "status": "completed"
    },
    "tags": []
   },
   "outputs": [
    {
     "data": {
      "text/plain": [
       "0.9525375939849624"
      ]
     },
     "execution_count": 57,
     "metadata": {},
     "output_type": "execute_result"
    }
   ],
   "source": [
    "roc_auc_score(y_test,y_pred)"
   ]
  },
  {
   "cell_type": "code",
   "execution_count": 58,
   "id": "8639002f",
   "metadata": {
    "execution": {
     "iopub.execute_input": "2022-04-25T07:21:17.203883Z",
     "iopub.status.busy": "2022-04-25T07:21:17.200918Z",
     "iopub.status.idle": "2022-04-25T07:21:17.411277Z",
     "shell.execute_reply": "2022-04-25T07:21:17.411797Z",
     "shell.execute_reply.started": "2022-04-25T07:18:59.978406Z"
    },
    "id": "jQKMzw8frLzu",
    "outputId": "60cd1608-01eb-46be-e540-cd4b18ef693a",
    "papermill": {
     "duration": 0.335864,
     "end_time": "2022-04-25T07:21:17.411966",
     "exception": false,
     "start_time": "2022-04-25T07:21:17.076102",
     "status": "completed"
    },
    "tags": []
   },
   "outputs": [
    {
     "data": {
      "image/png": "[encoded data removed]",
      "text/plain": [
       "<Figure size 432x288 with 2 Axes>"
      ]
     },
     "metadata": {},
     "output_type": "display_data"
    }
   ],
   "source": [
    "sns.set_context('talk')\n",
    "cm = confusion_matrix(y_test, y_pred)\n",
    "ax = sns.heatmap(cm, annot=True, fmt='d')"
   ]
  },
  {
   "cell_type": "markdown",
   "id": "1f6f4735",
   "metadata": {
    "id": "uuyWFKqV4ojW",
    "papermill": {
     "duration": 0.121993,
     "end_time": "2022-04-25T07:21:17.657229",
     "exception": false,
     "start_time": "2022-04-25T07:21:17.535236",
     "status": "completed"
    },
    "tags": []
   },
   "source": [
    "Support Vector Machine model"
   ]
  },
  {
   "cell_type": "code",
   "execution_count": 59,
   "id": "919ce1b5",
   "metadata": {
    "execution": {
     "iopub.execute_input": "2022-04-25T07:21:17.909334Z",
     "iopub.status.busy": "2022-04-25T07:21:17.906773Z",
     "iopub.status.idle": "2022-04-25T07:21:17.955509Z",
     "shell.execute_reply": "2022-04-25T07:21:17.954871Z",
     "shell.execute_reply.started": "2022-04-25T07:19:00.214855Z"
    },
    "id": "Ry8kMgFm9p7A",
    "outputId": "96cf8400-334b-46b6-a8c5-1e6390edbdd3",
    "papermill": {
     "duration": 0.175705,
     "end_time": "2022-04-25T07:21:17.955650",
     "exception": false,
     "start_time": "2022-04-25T07:21:17.779945",
     "status": "completed"
    },
    "tags": []
   },
   "outputs": [
    {
     "data": {
      "text/plain": [
       "0.9497607655502392"
      ]
     },
     "execution_count": 59,
     "metadata": {},
     "output_type": "execute_result"
    }
   ],
   "source": [
    "SVM = SVC().fit(X_train_scaler,y_train)\n",
    "y_pred = SVM.predict(X_test_scaler)\n",
    "accuracy_score(y_test,y_pred)"
   ]
  },
  {
   "cell_type": "code",
   "execution_count": 60,
   "id": "b66370c2",
   "metadata": {
    "execution": {
     "iopub.execute_input": "2022-04-25T07:21:18.210704Z",
     "iopub.status.busy": "2022-04-25T07:21:18.210062Z",
     "iopub.status.idle": "2022-04-25T07:21:22.211062Z",
     "shell.execute_reply": "2022-04-25T07:21:22.211708Z",
     "shell.execute_reply.started": "2022-04-25T07:19:00.264333Z"
    },
    "id": "12Kmfw42rL3G",
    "outputId": "1d87a525-2a11-4d90-ad8a-aada8dec33a0",
    "papermill": {
     "duration": 4.130315,
     "end_time": "2022-04-25T07:21:22.211869",
     "exception": false,
     "start_time": "2022-04-25T07:21:18.081554",
     "status": "completed"
    },
    "tags": []
   },
   "outputs": [
    {
     "data": {
      "text/plain": [
       "SVC(C=1000, gamma=0.001)"
      ]
     },
     "execution_count": 60,
     "metadata": {},
     "output_type": "execute_result"
    }
   ],
   "source": [
    "param_grid = {'C': [0.1, 1, 10, 100, 1000],\n",
    "              'gamma': [1, 0.1, 0.01, 0.001, 0.0001],\n",
    "              'kernel': ['rbf']}\n",
    "\n",
    "GV_SVM = GridSearchCV(SVC(),\n",
    "                     param_grid=param_grid,\n",
    "                     scoring='accuracy',\n",
    "                     n_jobs=-1)\n",
    "\n",
    "GV_SVM.fit(X_train_scaler,y_train)\n",
    "GV_SVM.best_estimator_"
   ]
  },
  {
   "cell_type": "code",
   "execution_count": 61,
   "id": "1bc30c47",
   "metadata": {
    "execution": {
     "iopub.execute_input": "2022-04-25T07:21:22.466549Z",
     "iopub.status.busy": "2022-04-25T07:21:22.465927Z",
     "iopub.status.idle": "2022-04-25T07:21:22.484962Z",
     "shell.execute_reply": "2022-04-25T07:21:22.486006Z",
     "shell.execute_reply.started": "2022-04-25T07:19:04.035272Z"
    },
    "id": "0-tg8DXjrL6u",
    "outputId": "26e43c38-df2a-4413-f51c-59f275dde536",
    "papermill": {
     "duration": 0.147605,
     "end_time": "2022-04-25T07:21:22.486290",
     "exception": false,
     "start_time": "2022-04-25T07:21:22.338685",
     "status": "completed"
    },
    "tags": []
   },
   "outputs": [
    {
     "name": "stdout",
     "output_type": "stream",
     "text": [
      "              precision    recall  f1-score   support\n",
      "\n",
      "           0       0.97      0.97      0.97       267\n",
      "           1       0.95      0.95      0.95       151\n",
      "\n",
      "    accuracy                           0.96       418\n",
      "   macro avg       0.96      0.96      0.96       418\n",
      "weighted avg       0.96      0.96      0.96       418\n",
      "\n"
     ]
    }
   ],
   "source": [
    "y_pred = GV_SVM.predict(X_test_scaler)\n",
    "print(classification_report(y_pred,y_test))"
   ]
  },
  {
   "cell_type": "code",
   "execution_count": 62,
   "id": "53f80bda",
   "metadata": {
    "execution": {
     "iopub.execute_input": "2022-04-25T07:21:22.739570Z",
     "iopub.status.busy": "2022-04-25T07:21:22.738980Z",
     "iopub.status.idle": "2022-04-25T07:21:22.744816Z",
     "shell.execute_reply": "2022-04-25T07:21:22.745344Z",
     "shell.execute_reply.started": "2022-04-25T07:19:04.057750Z"
    },
    "id": "o1gHVJf-99on",
    "outputId": "6f440428-dd47-47c5-bb2d-1fb5a132c8d1",
    "papermill": {
     "duration": 0.134779,
     "end_time": "2022-04-25T07:21:22.745487",
     "exception": false,
     "start_time": "2022-04-25T07:21:22.610708",
     "status": "completed"
    },
    "tags": []
   },
   "outputs": [
    {
     "data": {
      "text/plain": [
       "0.9605263157894737"
      ]
     },
     "execution_count": 62,
     "metadata": {},
     "output_type": "execute_result"
    }
   ],
   "source": [
    "roc_auc_score(y_test,y_pred)"
   ]
  },
  {
   "cell_type": "code",
   "execution_count": 63,
   "id": "750418a3",
   "metadata": {
    "execution": {
     "iopub.execute_input": "2022-04-25T07:21:22.999251Z",
     "iopub.status.busy": "2022-04-25T07:21:22.998644Z",
     "iopub.status.idle": "2022-04-25T07:21:23.207837Z",
     "shell.execute_reply": "2022-04-25T07:21:23.208308Z",
     "shell.execute_reply.started": "2022-04-25T07:19:04.068155Z"
    },
    "id": "UuS8lulwrL94",
    "outputId": "00fa1b15-0444-4cab-c7af-8f966ef8d0ab",
    "papermill": {
     "duration": 0.338234,
     "end_time": "2022-04-25T07:21:23.208451",
     "exception": false,
     "start_time": "2022-04-25T07:21:22.870217",
     "status": "completed"
    },
    "tags": []
   },
   "outputs": [
    {
     "data": {
      "image/png": "[encoded data removed]",
      "text/plain": [
       "<Figure size 432x288 with 2 Axes>"
      ]
     },
     "metadata": {},
     "output_type": "display_data"
    }
   ],
   "source": [
    "sns.set_context('talk')\n",
    "cm = confusion_matrix(y_test, y_pred)\n",
    "ax = sns.heatmap(cm, annot=True, fmt='d')"
   ]
  },
  {
   "cell_type": "markdown",
   "id": "412f1e9e",
   "metadata": {
    "id": "PArj6CyU4-qO",
    "papermill": {
     "duration": 0.124537,
     "end_time": "2022-04-25T07:21:23.457093",
     "exception": false,
     "start_time": "2022-04-25T07:21:23.332556",
     "status": "completed"
    },
    "tags": []
   },
   "source": [
    "Random Forest model"
   ]
  },
  {
   "cell_type": "code",
   "execution_count": 64,
   "id": "e75573eb",
   "metadata": {
    "execution": {
     "iopub.execute_input": "2022-04-25T07:21:23.709353Z",
     "iopub.status.busy": "2022-04-25T07:21:23.708355Z",
     "iopub.status.idle": "2022-04-25T07:21:23.943515Z",
     "shell.execute_reply": "2022-04-25T07:21:23.942867Z",
     "shell.execute_reply.started": "2022-04-25T07:19:04.288035Z"
    },
    "id": "kkiBWFNPrMBN",
    "outputId": "5d456557-2691-438e-82be-0962e4f11caf",
    "papermill": {
     "duration": 0.362121,
     "end_time": "2022-04-25T07:21:23.943675",
     "exception": false,
     "start_time": "2022-04-25T07:21:23.581554",
     "status": "completed"
    },
    "tags": []
   },
   "outputs": [
    {
     "data": {
      "text/plain": [
       "0.7918660287081339"
      ]
     },
     "execution_count": 64,
     "metadata": {},
     "output_type": "execute_result"
    }
   ],
   "source": [
    "RF = RandomForestClassifier().fit(X_train_scaler,y_train)\n",
    "y_pred = RF.predict(X_test_scaler)\n",
    "accuracy_score(y_test,y_pred)"
   ]
  },
  {
   "cell_type": "code",
   "execution_count": 65,
   "id": "a91db538",
   "metadata": {
    "execution": {
     "iopub.execute_input": "2022-04-25T07:21:24.206564Z",
     "iopub.status.busy": "2022-04-25T07:21:24.205560Z",
     "iopub.status.idle": "2022-04-25T07:21:30.235463Z",
     "shell.execute_reply": "2022-04-25T07:21:30.236000Z",
     "shell.execute_reply.started": "2022-04-25T07:19:04.500295Z"
    },
    "id": "yJryWAdP5F5d",
    "outputId": "a037e533-9cb2-44a1-ae87-459cc9135209",
    "papermill": {
     "duration": 6.163636,
     "end_time": "2022-04-25T07:21:30.236165",
     "exception": false,
     "start_time": "2022-04-25T07:21:24.072529",
     "status": "completed"
    },
    "tags": []
   },
   "outputs": [
    {
     "data": {
      "text/plain": [
       "RandomForestClassifier(n_estimators=200)"
      ]
     },
     "execution_count": 65,
     "metadata": {},
     "output_type": "execute_result"
    }
   ],
   "source": [
    "param_grid = {'n_estimators':[15, 20, 30, 40, 50, 100, 150, 200, 300, 400]}\n",
    "GV_RF = GridSearchCV(RandomForestClassifier(),\n",
    "                     param_grid=param_grid,\n",
    "                     scoring='accuracy',\n",
    "                     n_jobs=-1)\n",
    "GV_RF.fit(X_train_scaler,y_train)\n",
    "GV_RF.best_estimator_"
   ]
  },
  {
   "cell_type": "code",
   "execution_count": 66,
   "id": "c033cdb9",
   "metadata": {
    "execution": {
     "iopub.execute_input": "2022-04-25T07:21:30.493724Z",
     "iopub.status.busy": "2022-04-25T07:21:30.493071Z",
     "iopub.status.idle": "2022-04-25T07:21:30.538184Z",
     "shell.execute_reply": "2022-04-25T07:21:30.538720Z",
     "shell.execute_reply.started": "2022-04-25T07:19:09.577633Z"
    },
    "id": "t8ijSqe95F8L",
    "outputId": "524df4ca-8da8-43b0-ccb1-4dd862b82c08",
    "papermill": {
     "duration": 0.174047,
     "end_time": "2022-04-25T07:21:30.538902",
     "exception": false,
     "start_time": "2022-04-25T07:21:30.364855",
     "status": "completed"
    },
    "tags": []
   },
   "outputs": [
    {
     "name": "stdout",
     "output_type": "stream",
     "text": [
      "              precision    recall  f1-score   support\n",
      "\n",
      "           0       0.83      0.84      0.83       266\n",
      "           1       0.71      0.69      0.70       152\n",
      "\n",
      "    accuracy                           0.79       418\n",
      "   macro avg       0.77      0.77      0.77       418\n",
      "weighted avg       0.79      0.79      0.79       418\n",
      "\n"
     ]
    }
   ],
   "source": [
    "y_pred = GV_RF.predict(X_test_scaler)\n",
    "print(classification_report(y_test,y_pred))"
   ]
  },
  {
   "cell_type": "code",
   "execution_count": 67,
   "id": "35db9dd6",
   "metadata": {
    "execution": {
     "iopub.execute_input": "2022-04-25T07:21:30.798952Z",
     "iopub.status.busy": "2022-04-25T07:21:30.798326Z",
     "iopub.status.idle": "2022-04-25T07:21:30.804239Z",
     "shell.execute_reply": "2022-04-25T07:21:30.804795Z",
     "shell.execute_reply.started": "2022-04-25T07:19:09.595755Z"
    },
    "id": "40UFALmi-E4b",
    "outputId": "f546fd7c-fb0b-407b-c84e-98b922503d14",
    "papermill": {
     "duration": 0.137517,
     "end_time": "2022-04-25T07:21:30.804956",
     "exception": false,
     "start_time": "2022-04-25T07:21:30.667439",
     "status": "completed"
    },
    "tags": []
   },
   "outputs": [
    {
     "data": {
      "text/plain": [
       "0.7664473684210527"
      ]
     },
     "execution_count": 67,
     "metadata": {},
     "output_type": "execute_result"
    }
   ],
   "source": [
    "roc_auc_score(y_test,y_pred)"
   ]
  },
  {
   "cell_type": "code",
   "execution_count": 68,
   "id": "b1b20129",
   "metadata": {
    "execution": {
     "iopub.execute_input": "2022-04-25T07:21:31.064683Z",
     "iopub.status.busy": "2022-04-25T07:21:31.064064Z",
     "iopub.status.idle": "2022-04-25T07:21:31.273493Z",
     "shell.execute_reply": "2022-04-25T07:21:31.274019Z",
     "shell.execute_reply.started": "2022-04-25T07:19:09.605138Z"
    },
    "id": "bWgIyOxh5F_G",
    "outputId": "c93ea785-1ca8-4432-e894-04cb73040a5c",
    "papermill": {
     "duration": 0.341211,
     "end_time": "2022-04-25T07:21:31.274194",
     "exception": false,
     "start_time": "2022-04-25T07:21:30.932983",
     "status": "completed"
    },
    "tags": []
   },
   "outputs": [
    {
     "data": {
      "image/png": "[encoded data removed]",
      "text/plain": [
       "<Figure size 432x288 with 2 Axes>"
      ]
     },
     "metadata": {},
     "output_type": "display_data"
    }
   ],
   "source": [
    "sns.set_context('talk')\n",
    "cm = confusion_matrix(y_test, y_pred)\n",
    "ax = sns.heatmap(cm, annot=True, fmt='d')"
   ]
  },
  {
   "cell_type": "markdown",
   "id": "f44b49a5",
   "metadata": {
    "id": "PMp3xI_A5_oY",
    "papermill": {
     "duration": 0.126764,
     "end_time": "2022-04-25T07:21:31.544867",
     "exception": false,
     "start_time": "2022-04-25T07:21:31.418103",
     "status": "completed"
    },
    "tags": []
   },
   "source": [
    "AdaBoost model"
   ]
  },
  {
   "cell_type": "code",
   "execution_count": 69,
   "id": "47d053c5",
   "metadata": {
    "execution": {
     "iopub.execute_input": "2022-04-25T07:21:31.808441Z",
     "iopub.status.busy": "2022-04-25T07:21:31.807817Z",
     "iopub.status.idle": "2022-04-25T07:21:31.917869Z",
     "shell.execute_reply": "2022-04-25T07:21:31.918343Z",
     "shell.execute_reply.started": "2022-04-25T07:19:09.819268Z"
    },
    "id": "5nnKJcfG5GB2",
    "outputId": "73998229-83d9-4fa1-e5f4-2d2619de78c4",
    "papermill": {
     "duration": 0.245171,
     "end_time": "2022-04-25T07:21:31.918518",
     "exception": false,
     "start_time": "2022-04-25T07:21:31.673347",
     "status": "completed"
    },
    "tags": []
   },
   "outputs": [
    {
     "data": {
      "text/plain": [
       "0.3684210526315789"
      ]
     },
     "execution_count": 69,
     "metadata": {},
     "output_type": "execute_result"
    }
   ],
   "source": [
    "ABC = AdaBoostClassifier(DecisionTreeClassifier(max_depth=1)).fit(X_train_scaler,y_train)\n",
    "y_pred = ABC.predict(X_test)\n",
    "accuracy_score(y_test,y_pred)"
   ]
  },
  {
   "cell_type": "code",
   "execution_count": 70,
   "id": "e20de00f",
   "metadata": {
    "execution": {
     "iopub.execute_input": "2022-04-25T07:21:32.178257Z",
     "iopub.status.busy": "2022-04-25T07:21:32.177637Z",
     "iopub.status.idle": "2022-04-25T07:21:36.388347Z",
     "shell.execute_reply": "2022-04-25T07:21:36.388942Z",
     "shell.execute_reply.started": "2022-04-25T07:19:09.922361Z"
    },
    "id": "Z7FfsiRH5GE0",
    "outputId": "ea307ec9-caaa-47a1-dca3-05427b02c4f8",
    "papermill": {
     "duration": 4.341724,
     "end_time": "2022-04-25T07:21:36.389148",
     "exception": false,
     "start_time": "2022-04-25T07:21:32.047424",
     "status": "completed"
    },
    "tags": []
   },
   "outputs": [
    {
     "data": {
      "text/plain": [
       "AdaBoostClassifier(base_estimator=DecisionTreeClassifier(max_depth=1),\n",
       "                   learning_rate=0.01, n_estimators=100)"
      ]
     },
     "execution_count": 70,
     "metadata": {},
     "output_type": "execute_result"
    }
   ],
   "source": [
    "param_grid = {'n_estimators': [100, 150, 200],\n",
    "              'learning_rate': [0.01, 0.001]}\n",
    "\n",
    "GV_ABC = GridSearchCV(ABC,\n",
    "                      param_grid=param_grid, \n",
    "                      scoring='accuracy',\n",
    "                      n_jobs=-1)\n",
    "\n",
    "GV_ABC = GV_ABC.fit(X_train, y_train)\n",
    "GV_ABC.best_estimator_"
   ]
  },
  {
   "cell_type": "code",
   "execution_count": 71,
   "id": "becda4ca",
   "metadata": {
    "execution": {
     "iopub.execute_input": "2022-04-25T07:21:36.649784Z",
     "iopub.status.busy": "2022-04-25T07:21:36.649147Z",
     "iopub.status.idle": "2022-04-25T07:21:36.680011Z",
     "shell.execute_reply": "2022-04-25T07:21:36.680694Z",
     "shell.execute_reply.started": "2022-04-25T07:19:13.386474Z"
    },
    "id": "0yEx_aKB5GIF",
    "outputId": "47b9f3b5-83b1-4af8-afe0-c5d0ee3e508c",
    "papermill": {
     "duration": 0.16288,
     "end_time": "2022-04-25T07:21:36.680903",
     "exception": false,
     "start_time": "2022-04-25T07:21:36.518023",
     "status": "completed"
    },
    "tags": []
   },
   "outputs": [
    {
     "name": "stdout",
     "output_type": "stream",
     "text": [
      "              precision    recall  f1-score   support\n",
      "\n",
      "           0       1.00      1.00      1.00       266\n",
      "           1       1.00      1.00      1.00       152\n",
      "\n",
      "    accuracy                           1.00       418\n",
      "   macro avg       1.00      1.00      1.00       418\n",
      "weighted avg       1.00      1.00      1.00       418\n",
      "\n"
     ]
    }
   ],
   "source": [
    "y_pred = GV_ABC.predict(X_test_scaler)\n",
    "print(classification_report(y_pred, y_test))"
   ]
  },
  {
   "cell_type": "code",
   "execution_count": 72,
   "id": "3ce3787b",
   "metadata": {
    "execution": {
     "iopub.execute_input": "2022-04-25T07:21:36.941886Z",
     "iopub.status.busy": "2022-04-25T07:21:36.940906Z",
     "iopub.status.idle": "2022-04-25T07:21:36.946572Z",
     "shell.execute_reply": "2022-04-25T07:21:36.947089Z",
     "shell.execute_reply.started": "2022-04-25T07:19:13.421381Z"
    },
    "id": "AfeOCc0j-IFU",
    "outputId": "9d5b50a9-6c91-4996-f345-a7cc0ec161ea",
    "papermill": {
     "duration": 0.138565,
     "end_time": "2022-04-25T07:21:36.947239",
     "exception": false,
     "start_time": "2022-04-25T07:21:36.808674",
     "status": "completed"
    },
    "tags": []
   },
   "outputs": [
    {
     "data": {
      "text/plain": [
       "1.0"
      ]
     },
     "execution_count": 72,
     "metadata": {},
     "output_type": "execute_result"
    }
   ],
   "source": [
    "roc_auc_score(y_test,y_pred)"
   ]
  },
  {
   "cell_type": "code",
   "execution_count": 73,
   "id": "7a60f04b",
   "metadata": {
    "execution": {
     "iopub.execute_input": "2022-04-25T07:21:37.211382Z",
     "iopub.status.busy": "2022-04-25T07:21:37.210770Z",
     "iopub.status.idle": "2022-04-25T07:21:37.422254Z",
     "shell.execute_reply": "2022-04-25T07:21:37.421772Z",
     "shell.execute_reply.started": "2022-04-25T07:19:13.429209Z"
    },
    "id": "H6wDQEKl5GN8",
    "outputId": "6c5dbfa1-536a-40b9-ad77-7ad514003b4f",
    "papermill": {
     "duration": 0.346309,
     "end_time": "2022-04-25T07:21:37.422401",
     "exception": false,
     "start_time": "2022-04-25T07:21:37.076092",
     "status": "completed"
    },
    "tags": []
   },
   "outputs": [
    {
     "data": {
      "image/png": "[encoded data removed]",
      "text/plain": [
       "<Figure size 432x288 with 2 Axes>"
      ]
     },
     "metadata": {},
     "output_type": "display_data"
    }
   ],
   "source": [
    "sns.set_context('talk')\n",
    "cm = confusion_matrix(y_test, y_pred)\n",
    "ax = sns.heatmap(cm, annot=True, fmt='d')"
   ]
  },
  {
   "cell_type": "markdown",
   "id": "8a15c43e",
   "metadata": {
    "id": "l6XbrPC_6Y5_",
    "papermill": {
     "duration": 0.126743,
     "end_time": "2022-04-25T07:21:37.678052",
     "exception": false,
     "start_time": "2022-04-25T07:21:37.551309",
     "status": "completed"
    },
    "tags": []
   },
   "source": [
    "Gradient Boosting model"
   ]
  },
  {
   "cell_type": "code",
   "execution_count": 74,
   "id": "9ace142a",
   "metadata": {
    "execution": {
     "iopub.execute_input": "2022-04-25T07:21:37.950486Z",
     "iopub.status.busy": "2022-04-25T07:21:37.949820Z",
     "iopub.status.idle": "2022-04-25T07:21:38.070169Z",
     "shell.execute_reply": "2022-04-25T07:21:38.069703Z",
     "shell.execute_reply.started": "2022-04-25T07:19:13.651626Z"
    },
    "id": "bvlbNHC-rMEF",
    "outputId": "c8f8e34d-484e-43ce-c039-5728b56fb99d",
    "papermill": {
     "duration": 0.258818,
     "end_time": "2022-04-25T07:21:38.070298",
     "exception": false,
     "start_time": "2022-04-25T07:21:37.811480",
     "status": "completed"
    },
    "tags": []
   },
   "outputs": [
    {
     "data": {
      "text/plain": [
       "0.507177033492823"
      ]
     },
     "execution_count": 74,
     "metadata": {},
     "output_type": "execute_result"
    }
   ],
   "source": [
    "GBC = GradientBoostingClassifier(random_state=42).fit(X_train_scaler,y_train)\n",
    "y_pred = GBC.predict(X_test)\n",
    "accuracy_score(y_test,y_pred)"
   ]
  },
  {
   "cell_type": "code",
   "execution_count": 75,
   "id": "953b83b2",
   "metadata": {
    "execution": {
     "iopub.execute_input": "2022-04-25T07:21:38.339687Z",
     "iopub.status.busy": "2022-04-25T07:21:38.336160Z",
     "iopub.status.idle": "2022-04-25T07:22:18.050399Z",
     "shell.execute_reply": "2022-04-25T07:22:18.050989Z",
     "shell.execute_reply.started": "2022-04-25T07:19:13.773103Z"
    },
    "id": "z87aJnyg6SUQ",
    "outputId": "925a443c-a844-4839-9083-7845ab509f0b",
    "papermill": {
     "duration": 39.849758,
     "end_time": "2022-04-25T07:22:18.051150",
     "exception": false,
     "start_time": "2022-04-25T07:21:38.201392",
     "status": "completed"
    },
    "tags": []
   },
   "outputs": [
    {
     "data": {
      "text/plain": [
       "GradientBoostingClassifier(max_features=4, random_state=42, subsample=0.5)"
      ]
     },
     "execution_count": 75,
     "metadata": {},
     "output_type": "execute_result"
    }
   ],
   "source": [
    "param_grid = {'n_estimators': [15, 25, 50, 100, 200, 400],\n",
    "              'learning_rate': [0.1, 0.01, 0.001, 0.0001],\n",
    "              'subsample': [1.0, 0.5],\n",
    "              'max_features': [1, 2, 3, 4]}\n",
    "\n",
    "\n",
    "GV_GBC = GridSearchCV(GradientBoostingClassifier(random_state=42), \n",
    "                      param_grid=param_grid, \n",
    "                      scoring='accuracy',\n",
    "                      n_jobs=-1)\n",
    "\n",
    "\n",
    "GV_GBC.fit(X_train_scaler, y_train)\n",
    "GV_GBC.best_estimator_"
   ]
  },
  {
   "cell_type": "code",
   "execution_count": 76,
   "id": "c4dc73f3",
   "metadata": {
    "execution": {
     "iopub.execute_input": "2022-04-25T07:22:18.316384Z",
     "iopub.status.busy": "2022-04-25T07:22:18.315393Z",
     "iopub.status.idle": "2022-04-25T07:22:18.327095Z",
     "shell.execute_reply": "2022-04-25T07:22:18.326599Z",
     "shell.execute_reply.started": "2022-04-25T07:19:51.799710Z"
    },
    "id": "u1BC5Etc6SW9",
    "outputId": "8eff6dd9-85af-40ab-d097-5ca165e9b34e",
    "papermill": {
     "duration": 0.147093,
     "end_time": "2022-04-25T07:22:18.327233",
     "exception": false,
     "start_time": "2022-04-25T07:22:18.180140",
     "status": "completed"
    },
    "tags": []
   },
   "outputs": [
    {
     "name": "stdout",
     "output_type": "stream",
     "text": [
      "              precision    recall  f1-score   support\n",
      "\n",
      "           0       0.94      0.90      0.92       279\n",
      "           1       0.82      0.89      0.85       139\n",
      "\n",
      "    accuracy                           0.90       418\n",
      "   macro avg       0.88      0.90      0.89       418\n",
      "weighted avg       0.90      0.90      0.90       418\n",
      "\n"
     ]
    }
   ],
   "source": [
    "y_pred = GV_GBC.predict(X_test_scaler)\n",
    "print(classification_report(y_pred, y_test))"
   ]
  },
  {
   "cell_type": "code",
   "execution_count": 77,
   "id": "6ff04126",
   "metadata": {
    "execution": {
     "iopub.execute_input": "2022-04-25T07:22:18.597312Z",
     "iopub.status.busy": "2022-04-25T07:22:18.596618Z",
     "iopub.status.idle": "2022-04-25T07:22:18.599296Z",
     "shell.execute_reply": "2022-04-25T07:22:18.599752Z",
     "shell.execute_reply.started": "2022-04-25T07:19:51.815453Z"
    },
    "id": "1wUCcRc6-Og8",
    "outputId": "1584f8d7-c643-4925-cdb2-c8150d826a36",
    "papermill": {
     "duration": 0.142107,
     "end_time": "2022-04-25T07:22:18.599944",
     "exception": false,
     "start_time": "2022-04-25T07:22:18.457837",
     "status": "completed"
    },
    "tags": []
   },
   "outputs": [
    {
     "data": {
      "text/plain": [
       "0.8796992481203008"
      ]
     },
     "execution_count": 77,
     "metadata": {},
     "output_type": "execute_result"
    }
   ],
   "source": [
    "roc_auc_score(y_test,y_pred)"
   ]
  },
  {
   "cell_type": "code",
   "execution_count": 78,
   "id": "b7cb7588",
   "metadata": {
    "execution": {
     "iopub.execute_input": "2022-04-25T07:22:18.867087Z",
     "iopub.status.busy": "2022-04-25T07:22:18.866488Z",
     "iopub.status.idle": "2022-04-25T07:22:19.077033Z",
     "shell.execute_reply": "2022-04-25T07:22:19.076564Z",
     "shell.execute_reply.started": "2022-04-25T07:19:51.825457Z"
    },
    "id": "en2rp-G76Saq",
    "outputId": "0ded463f-417b-47a1-970e-85ae5992aa49",
    "papermill": {
     "duration": 0.345548,
     "end_time": "2022-04-25T07:22:19.077159",
     "exception": false,
     "start_time": "2022-04-25T07:22:18.731611",
     "status": "completed"
    },
    "tags": []
   },
   "outputs": [
    {
     "data": {
      "image/png": "[encoded data removed]",
      "text/plain": [
       "<Figure size 432x288 with 2 Axes>"
      ]
     },
     "metadata": {},
     "output_type": "display_data"
    }
   ],
   "source": [
    "sns.set_context('talk')\n",
    "cm = confusion_matrix(y_test, y_pred)\n",
    "ax = sns.heatmap(cm, annot=True, fmt='d')"
   ]
  },
  {
   "cell_type": "code",
   "execution_count": 79,
   "id": "082210b3",
   "metadata": {
    "execution": {
     "iopub.execute_input": "2022-04-25T07:22:19.348468Z",
     "iopub.status.busy": "2022-04-25T07:22:19.347864Z",
     "iopub.status.idle": "2022-04-25T07:22:19.370401Z",
     "shell.execute_reply": "2022-04-25T07:22:19.369994Z",
     "shell.execute_reply.started": "2022-04-25T07:19:52.046739Z"
    },
    "id": "HAmkP8NsqdAW",
    "papermill": {
     "duration": 0.159894,
     "end_time": "2022-04-25T07:22:19.370531",
     "exception": false,
     "start_time": "2022-04-25T07:22:19.210637",
     "status": "completed"
    },
    "tags": []
   },
   "outputs": [],
   "source": [
    "submission['Survived'] = GV_ABC.predict(X_test_scaler)"
   ]
  },
  {
   "cell_type": "code",
   "execution_count": 80,
   "id": "c8fa7c1d",
   "metadata": {
    "execution": {
     "iopub.execute_input": "2022-04-25T07:22:19.636073Z",
     "iopub.status.busy": "2022-04-25T07:22:19.635402Z",
     "iopub.status.idle": "2022-04-25T07:22:19.644728Z",
     "shell.execute_reply": "2022-04-25T07:22:19.645206Z",
     "shell.execute_reply.started": "2022-04-25T07:19:52.076549Z"
    },
    "id": "yDhFs-khqdAW",
    "outputId": "99d7beb1-dfdf-4a02-a319-39c70cef56ab",
    "papermill": {
     "duration": 0.14206,
     "end_time": "2022-04-25T07:22:19.645359",
     "exception": false,
     "start_time": "2022-04-25T07:22:19.503299",
     "status": "completed"
    },
    "tags": []
   },
   "outputs": [
    {
     "data": {
      "text/html": [
       "<div>\n",
       "<style scoped>\n",
       "    .dataframe tbody tr th:only-of-type {\n",
       "        vertical-align: middle;\n",
       "    }\n",
       "\n",
       "    .dataframe tbody tr th {\n",
       "        vertical-align: top;\n",
       "    }\n",
       "\n",
       "    .dataframe thead th {\n",
       "        text-align: right;\n",
       "    }\n",
       "</style>\n",
       "<table border=\"1\" class=\"dataframe\">\n",
       "  <thead>\n",
       "    <tr style=\"text-align: right;\">\n",
       "      <th></th>\n",
       "      <th>PassengerId</th>\n",
       "      <th>Survived</th>\n",
       "    </tr>\n",
       "  </thead>\n",
       "  <tbody>\n",
       "    <tr>\n",
       "      <th>0</th>\n",
       "      <td>892</td>\n",
       "      <td>0</td>\n",
       "    </tr>\n",
       "    <tr>\n",
       "      <th>1</th>\n",
       "      <td>893</td>\n",
       "      <td>1</td>\n",
       "    </tr>\n",
       "    <tr>\n",
       "      <th>2</th>\n",
       "      <td>894</td>\n",
       "      <td>0</td>\n",
       "    </tr>\n",
       "    <tr>\n",
       "      <th>3</th>\n",
       "      <td>895</td>\n",
       "      <td>0</td>\n",
       "    </tr>\n",
       "    <tr>\n",
       "      <th>4</th>\n",
       "      <td>896</td>\n",
       "      <td>1</td>\n",
       "    </tr>\n",
       "    <tr>\n",
       "      <th>...</th>\n",
       "      <td>...</td>\n",
       "      <td>...</td>\n",
       "    </tr>\n",
       "    <tr>\n",
       "      <th>413</th>\n",
       "      <td>1305</td>\n",
       "      <td>0</td>\n",
       "    </tr>\n",
       "    <tr>\n",
       "      <th>414</th>\n",
       "      <td>1306</td>\n",
       "      <td>1</td>\n",
       "    </tr>\n",
       "    <tr>\n",
       "      <th>415</th>\n",
       "      <td>1307</td>\n",
       "      <td>0</td>\n",
       "    </tr>\n",
       "    <tr>\n",
       "      <th>416</th>\n",
       "      <td>1308</td>\n",
       "      <td>0</td>\n",
       "    </tr>\n",
       "    <tr>\n",
       "      <th>417</th>\n",
       "      <td>1309</td>\n",
       "      <td>0</td>\n",
       "    </tr>\n",
       "  </tbody>\n",
       "</table>\n",
       "<p>418 rows × 2 columns</p>\n",
       "</div>"
      ],
      "text/plain": [
       "     PassengerId  Survived\n",
       "0            892         0\n",
       "1            893         1\n",
       "2            894         0\n",
       "3            895         0\n",
       "4            896         1\n",
       "..           ...       ...\n",
       "413         1305         0\n",
       "414         1306         1\n",
       "415         1307         0\n",
       "416         1308         0\n",
       "417         1309         0\n",
       "\n",
       "[418 rows x 2 columns]"
      ]
     },
     "execution_count": 80,
     "metadata": {},
     "output_type": "execute_result"
    }
   ],
   "source": [
    "submission"
   ]
  },
  {
   "cell_type": "code",
   "execution_count": 81,
   "id": "fc7443ea",
   "metadata": {
    "execution": {
     "iopub.execute_input": "2022-04-25T07:22:19.914797Z",
     "iopub.status.busy": "2022-04-25T07:22:19.914095Z",
     "iopub.status.idle": "2022-04-25T07:22:19.921484Z",
     "shell.execute_reply": "2022-04-25T07:22:19.921999Z",
     "shell.execute_reply.started": "2022-04-25T07:19:52.090639Z"
    },
    "id": "rqUqsOmFqdAW",
    "papermill": {
     "duration": 0.145567,
     "end_time": "2022-04-25T07:22:19.922170",
     "exception": false,
     "start_time": "2022-04-25T07:22:19.776603",
     "status": "completed"
    },
    "tags": []
   },
   "outputs": [],
   "source": [
    "submission.to_csv('submission.csv',index=False)"
   ]
  }
 ],
 "metadata": {
  "kernelspec": {
   "display_name": "Python 3",
   "language": "python",
   "name": "python3"
  },
  "language_info": {
   "codemirror_mode": {
    "name": "ipython",
    "version": 3
   },
   "file_extension": ".py",
   "mimetype": "text/x-python",
   "name": "python",
   "nbconvert_exporter": "python",
   "pygments_lexer": "ipython3",
   "version": "3.7.12"
  },
  "papermill": {
   "default_parameters": {},
   "duration": 115.024672,
   "end_time": "2022-04-25T07:22:20.867450",
   "environment_variables": {},
   "exception": null,
   "input_path": "__notebook__.ipynb",
   "output_path": "__notebook__.ipynb",
   "parameters": {},
   "start_time": "2022-04-25T07:20:25.842778",
   "version": "2.3.3"
  }
 },
 "nbformat": 4,
 "nbformat_minor": 5
}
